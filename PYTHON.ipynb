{
 "cells": [
  {
   "cell_type": "code",
   "execution_count": null,
   "id": "9d4b44f0",
   "metadata": {},
   "outputs": [],
   "source": []
  },
  {
   "cell_type": "code",
   "execution_count": 4,
   "id": "91cf6053",
   "metadata": {},
   "outputs": [
    {
     "name": "stdout",
     "output_type": "stream",
     "text": [
      "Enter your age: -1\n",
      "wrong input\n"
     ]
    }
   ],
   "source": [
    "age=input(\"Enter your age: \")\n",
    "if(age.isdigit()):\n",
    "    #age=int(age)\n",
    "    if(int(age)>0):\n",
    "        if(int(age)>=18):\n",
    "            print(\"You can vote\")\n",
    "        else:\n",
    "            print(\"You can't vote\")\n",
    "    else:\n",
    "        print(\"Age can't be negative\")\n",
    "else:\n",
    "    print(\"wrong input\")"
   ]
  },
  {
   "cell_type": "code",
   "execution_count": null,
   "id": "c82a6495",
   "metadata": {},
   "outputs": [],
   "source": [
    "n=input()\n",
    "if(n.isdigit()):\n",
    "    print(\"Input is digit\")\n",
    "else:\n",
    "    print(\"Input is not digit\")"
   ]
  },
  {
   "cell_type": "code",
   "execution_count": 10,
   "id": "07a49168",
   "metadata": {},
   "outputs": [
    {
     "name": "stdout",
     "output_type": "stream",
     "text": [
      "dfv\n"
     ]
    },
    {
     "data": {
      "text/plain": [
       "0"
      ]
     },
     "execution_count": 10,
     "metadata": {},
     "output_type": "execute_result"
    }
   ],
   "source": [
    "s=input()\n",
    "s.count('a')"
   ]
  },
  {
   "cell_type": "code",
   "execution_count": 11,
   "id": "c5cbd9e1",
   "metadata": {},
   "outputs": [
    {
     "data": {
      "text/plain": [
       "'Dfv'"
      ]
     },
     "execution_count": 11,
     "metadata": {},
     "output_type": "execute_result"
    }
   ],
   "source": [
    "s.title()"
   ]
  },
  {
   "cell_type": "code",
   "execution_count": 12,
   "id": "94f8e60b",
   "metadata": {},
   "outputs": [
    {
     "data": {
      "text/plain": [
       "'DFV'"
      ]
     },
     "execution_count": 12,
     "metadata": {},
     "output_type": "execute_result"
    }
   ],
   "source": [
    "s.upper()"
   ]
  },
  {
   "cell_type": "code",
   "execution_count": 13,
   "id": "0c045740",
   "metadata": {},
   "outputs": [
    {
     "data": {
      "text/plain": [
       "'dfv'"
      ]
     },
     "execution_count": 13,
     "metadata": {},
     "output_type": "execute_result"
    }
   ],
   "source": [
    "s.lower()"
   ]
  },
  {
   "cell_type": "code",
   "execution_count": 14,
   "id": "720e4448",
   "metadata": {},
   "outputs": [
    {
     "data": {
      "text/plain": [
       "'Dfv'"
      ]
     },
     "execution_count": 14,
     "metadata": {},
     "output_type": "execute_result"
    }
   ],
   "source": [
    "s.capitalize()"
   ]
  },
  {
   "cell_type": "code",
   "execution_count": 13,
   "id": "df4286d7",
   "metadata": {},
   "outputs": [
    {
     "name": "stdout",
     "output_type": "stream",
     "text": [
      "23\n",
      "scv\n",
      "age is 23 and name is scv\n"
     ]
    }
   ],
   "source": [
    "age=int(input())\n",
    "name=input()\n",
    "print(f\"age is {age} and name is {name}\")"
   ]
  },
  {
   "cell_type": "code",
   "execution_count": 15,
   "id": "9de0e223",
   "metadata": {},
   "outputs": [
    {
     "name": "stdout",
     "output_type": "stream",
     "text": [
      "python\n"
     ]
    }
   ],
   "source": [
    "string = \"i am learing python\"\n",
    "print(string[13::])"
   ]
  },
  {
   "cell_type": "code",
   "execution_count": 34,
   "id": "1cdb3e7b",
   "metadata": {},
   "outputs": [
    {
     "name": "stdout",
     "output_type": "stream",
     "text": [
      "dhiraj.marathe\n"
     ]
    }
   ],
   "source": [
    "g=\"dhiraj.marathe@pccoer.com\"\n",
    "h=g.split('@')\n",
    "print(h[0])\n",
    "\n",
    "\n"
   ]
  },
  {
   "cell_type": "code",
   "execution_count": 53,
   "id": "89d1fb76",
   "metadata": {},
   "outputs": [
    {
     "name": "stdout",
     "output_type": "stream",
     "text": [
      "i a s "
     ]
    }
   ],
   "source": [
    "s=\"i am string\"\n",
    "s.split(' ')\n",
    "l=[]\n",
    "for i in range(len(s)):\n",
    "    l.append(s[i][0])\n",
    "#print(l)\n",
    "print(l[0],end=' ')\n",
    "for i in range(len(l)):\n",
    "    if l[i]==' ':\n",
    "        print(l[i+1],end=' ')\n",
    "#print(len(s))"
   ]
  },
  {
   "cell_type": "markdown",
   "id": "1fe1415c",
   "metadata": {},
   "source": []
  },
  {
   "cell_type": "code",
   "execution_count": 55,
   "id": "cd241ae4",
   "metadata": {},
   "outputs": [
    {
     "name": "stdout",
     "output_type": "stream",
     "text": [
      "range(0, 1123)\n"
     ]
    }
   ],
   "source": [
    "print(range(1123))"
   ]
  },
  {
   "cell_type": "code",
   "execution_count": 56,
   "id": "a5ca501e",
   "metadata": {},
   "outputs": [],
   "source": [
    "for i in range(10,2):\n",
    "    print(i)"
   ]
  },
  {
   "cell_type": "code",
   "execution_count": 59,
   "id": "c52da445",
   "metadata": {},
   "outputs": [
    {
     "name": "stdout",
     "output_type": "stream",
     "text": [
      "0\n",
      "degree celsius is :  0.0\n",
      "farenheit: 32.0\n"
     ]
    }
   ],
   "source": [
    "    temp=float(input())\n",
    "    t=temp*1.8 + 32\n",
    "    print(\"degree celsius is : \", temp)\n",
    "    print(\"farenheit:\",t)"
   ]
  },
  {
   "cell_type": "code",
   "execution_count": 77,
   "id": "f5fb5634",
   "metadata": {},
   "outputs": [
    {
     "name": "stdout",
     "output_type": "stream",
     "text": [
      "-17.77777777777778 -17.22222222222222 -16.666666666666668 -16.11111111111111 -15.555555555555555 -15.0 "
     ]
    }
   ],
   "source": [
    "lis=[1,2,3,4,5,0]\n",
    "l=lambda n:(n-32)*5/9\n",
    "#print(l(0))\n",
    "for i in range(len(lis)):\n",
    "    print(l(i),end=' ')\n",
    "#lis=[1,2,3,4,5,0]"
   ]
  },
  {
   "cell_type": "code",
   "execution_count": 68,
   "id": "65e7b574",
   "metadata": {},
   "outputs": [
    {
     "name": "stdout",
     "output_type": "stream",
     "text": [
      "-17.77777777777778\n"
     ]
    }
   ],
   "source": [
    "l=lambda n:(n-32)*5/9\n",
    "print(l(0))"
   ]
  },
  {
   "cell_type": "code",
   "execution_count": 82,
   "id": "8e470663",
   "metadata": {},
   "outputs": [
    {
     "name": "stdout",
     "output_type": "stream",
     "text": [
      "[-17.22222222222222, -16.666666666666668, -16.11111111111111, -15.555555555555555, -15.0, -17.77777777777778]\n",
      "<class 'map'>\n"
     ]
    }
   ],
   "source": [
    "lis=[1,2,3,4,5,0]\n",
    "#l=lambda n:(n-32)*5/9\n",
    "print(list(map(lambda n:(n-32)*5/9,lis)))\n",
    "print(map)"
   ]
  },
  {
   "cell_type": "code",
   "execution_count": 90,
   "id": "1e4c4ae4",
   "metadata": {},
   "outputs": [
    {
     "name": "stdout",
     "output_type": "stream",
     "text": [
      "vi\n"
     ]
    }
   ],
   "source": [
    "a={'i':1,'v':5,'x':10}\n",
    "s=input()#\n",
    "c=s.count('i')\n",
    "#print(c)\n",
    "if(c==len(s)):\n",
    "    print(c)\n",
    "else:\n",
    "    for i in \n",
    "#for i in range(len(s)):\n",
    "    \n"
   ]
  },
  {
   "cell_type": "code",
   "execution_count": 113,
   "id": "854f2153",
   "metadata": {},
   "outputs": [
    {
     "name": "stdout",
     "output_type": "stream",
     "text": [
      "vi\n",
      "6\n"
     ]
    }
   ],
   "source": [
    "a={'i':1,'v':5,'x':10}\n",
    "s=input()\n",
    "final=0\n",
    "q=[]\n",
    "for i in s:\n",
    "    d=a[i]\n",
    "    q.append(d)\n",
    "    final+=d\n",
    "if(q[0]<q[1]): print(abs(q[0]-q[1]))  \n",
    "else: print(final)   "
   ]
  },
  {
   "cell_type": "markdown",
   "id": "2f6ba1fb",
   "metadata": {},
   "source": [
    "## DAY2"
   ]
  },
  {
   "cell_type": "code",
   "execution_count": 114,
   "id": "d4bdcb14",
   "metadata": {},
   "outputs": [],
   "source": [
    "##BMI CALULATOR"
   ]
  },
  {
   "cell_type": "code",
   "execution_count": 3,
   "id": "82b432a0",
   "metadata": {},
   "outputs": [
    {
     "ename": "SyntaxError",
     "evalue": "invalid syntax (3675037183.py, line 3)",
     "output_type": "error",
     "traceback": [
      "\u001b[0;36m  Input \u001b[0;32mIn [3]\u001b[0;36m\u001b[0m\n\u001b[0;31m    bmi=lambda x,y: f\"under weight\" if (x/(y*y)<18.5) if f\"normal\" (x/(y*y)>=18.5 and (x/(y*y)<=24.9 if f\"overweight\" (x/(y*y)>=25 and (x/(y*y)<=29.9 else f\"OBESE\"\u001b[0m\n\u001b[0m                                                      ^\u001b[0m\n\u001b[0;31mSyntaxError\u001b[0m\u001b[0;31m:\u001b[0m invalid syntax\n"
     ]
    }
   ],
   "source": [
    "# weight=float(input(\"Enter weight in kg: \"))\n",
    "# height=float(input(\"Enter height in meters: \"))\n",
    "#bmi=lambda x,y: f\"under weight\" if (x/(y*y)<18.5) if f\"normal\" (x/(y*y)>=18.5 and (x/(y*y)<=24.9 if f\"overweight\" (x/(y*y)>=25 and (x/(y*y)<=29.9 else f\"OBESE\"\n",
    "#bmi = weight/(height*height)\n",
    "# if(bmi<18.5):\n",
    "#     print(\"Under weight\")\n",
    "# elif(bmi>=18.5 and bmi<=24.9):\n",
    "#     print(\"Normal\")\n",
    "# elif(bmi>=25 and bmi<=29.9):\n",
    "#     print(\"Overweight\")\n",
    "# else:\n",
    "#     print(\"OBESE\")\n",
    "#bmi(10,20)"
   ]
  },
  {
   "cell_type": "markdown",
   "id": "6997dc5d",
   "metadata": {},
   "source": []
  },
  {
   "cell_type": "code",
   "execution_count": 5,
   "id": "65e7430d",
   "metadata": {},
   "outputs": [
    {
     "data": {
      "text/plain": [
       "6"
      ]
     },
     "execution_count": 5,
     "metadata": {},
     "output_type": "execute_result"
    }
   ],
   "source": [
    "def vowel(): \n",
    "    l=\"AEIOU\"\n",
    "    s='i am learning python'\n",
    "    i=0\n",
    "    c=0\n",
    "    #return l.lower()\n",
    "    while(i<len(s)):\n",
    "        if s[i] in l or s[i] in l.lower():\n",
    "            c+=1\n",
    "        i+=1\n",
    "    return c\n",
    "vowel()"
   ]
  },
  {
   "cell_type": "code",
   "execution_count": null,
   "id": "1b748a23",
   "metadata": {},
   "outputs": [],
   "source": [
    "s=[\"dhiraj\",\"anvi\",\"yash\",\"kunal\",\"kshitij\"]\n",
    "def add(name):\n",
    "    s.append(name)    \n",
    "def check(name):\n",
    "#     name=input()\n",
    "    #name=name.strip()\n",
    "    if name in s:\n",
    "        print(\"You can enter\")\n",
    "    else:\n",
    "        print(\"asking admin\")\n",
    "        print(\"is this member your relative\")\n",
    "        ans=input()\n",
    "        if ans=='yes':\n",
    "            add(name)\n",
    "        else:\n",
    "            print(\"you are not allowed\")\n",
    "def main():\n",
    "    while(True):\n",
    "        print(\"Enter name\")\n",
    "        name=input()\n",
    "        name=name.strip()\n",
    "        name.lower()\n",
    "        check(name)\n",
    "        choice=input(\"do you want to continue? y/n\")\n",
    "        if choice=='n' or choice=='N':\n",
    "            break    \n",
    "main()\n"
   ]
  },
  {
   "cell_type": "code",
   "execution_count": 2,
   "id": "58eb0453",
   "metadata": {},
   "outputs": [
    {
     "name": "stdout",
     "output_type": "stream",
     "text": [
      "dhiaj. \n"
     ]
    }
   ],
   "source": [
    "name=\"dhiaj. \"\n",
    "name.strip()\n",
    "print(name)"
   ]
  },
  {
   "cell_type": "markdown",
   "id": "f20f9c30",
   "metadata": {},
   "source": [
    "## OOP IN PYTHON\n"
   ]
  },
  {
   "cell_type": "code",
   "execution_count": 25,
   "id": "620b3eea",
   "metadata": {},
   "outputs": [
    {
     "name": "stdout",
     "output_type": "stream",
     "text": [
      "[1, 1, 3, 1, 5]\n"
     ]
    }
   ],
   "source": [
    "s=[1,42,1,3,4,1,5]\n",
    "print(list(filter(lambda n:n%2!=0,s)))\n"
   ]
  },
  {
   "cell_type": "code",
   "execution_count": 26,
   "id": "f59564d3",
   "metadata": {},
   "outputs": [
    {
     "name": "stdout",
     "output_type": "stream",
     "text": [
      "1 1 3 1 5 "
     ]
    }
   ],
   "source": [
    "# ternariy opertor\n",
    "s=[1,42,1,3,4,1,5]\n",
    "getodd = lambda n:n if (n%2!=0) else None\n",
    "for i in s:\n",
    "    r=getodd(i)\n",
    "    if r is None:\n",
    "        continue\n",
    "    print(r,end=' ')"
   ]
  },
  {
   "cell_type": "code",
   "execution_count": 31,
   "id": "94a3e355",
   "metadata": {},
   "outputs": [
    {
     "name": "stdout",
     "output_type": "stream",
     "text": [
      "21\n"
     ]
    }
   ],
   "source": [
    "s='14213415'\n",
    "c=0\n",
    "for i in s: c=c+int(i)\n",
    "print(c)"
   ]
  },
  {
   "cell_type": "code",
   "execution_count": 32,
   "id": "64dfb4fc",
   "metadata": {},
   "outputs": [
    {
     "name": "stdout",
     "output_type": "stream",
     "text": [
      "Collecting functools\n",
      "  Downloading functools-0.5.tar.gz (4.9 kB)\n",
      "Building wheels for collected packages: functools\n",
      "  Building wheel for functools (setup.py) ... \u001b[?25lerror\n",
      "\u001b[31m  ERROR: Command errored out with exit status 1:\n",
      "   command: /Users/dhirajmarathe/opt/anaconda3/bin/python -u -c 'import io, os, sys, setuptools, tokenize; sys.argv[0] = '\"'\"'/private/var/folders/nv/9jn8dp9j3qn4qb674y2qj5k00000gn/T/pip-install-q7337v_n/functools_87fbad7e97a94b87a6a1bb54fd3aee03/setup.py'\"'\"'; __file__='\"'\"'/private/var/folders/nv/9jn8dp9j3qn4qb674y2qj5k00000gn/T/pip-install-q7337v_n/functools_87fbad7e97a94b87a6a1bb54fd3aee03/setup.py'\"'\"';f = getattr(tokenize, '\"'\"'open'\"'\"', open)(__file__) if os.path.exists(__file__) else io.StringIO('\"'\"'from setuptools import setup; setup()'\"'\"');code = f.read().replace('\"'\"'\\r\\n'\"'\"', '\"'\"'\\n'\"'\"');f.close();exec(compile(code, __file__, '\"'\"'exec'\"'\"'))' bdist_wheel -d /private/var/folders/nv/9jn8dp9j3qn4qb674y2qj5k00000gn/T/pip-wheel-0fdur_jz\n",
      "       cwd: /private/var/folders/nv/9jn8dp9j3qn4qb674y2qj5k00000gn/T/pip-install-q7337v_n/functools_87fbad7e97a94b87a6a1bb54fd3aee03/\n",
      "  Complete output (68 lines):\n",
      "  running bdist_wheel\n",
      "  running build\n",
      "  running build_py\n",
      "  creating build\n",
      "  creating build/lib.macosx-10.9-x86_64-3.9\n",
      "  copying functools.py -> build/lib.macosx-10.9-x86_64-3.9\n",
      "  running build_ext\n",
      "  building '_functools' extension\n",
      "  creating build/temp.macosx-10.9-x86_64-3.9\n",
      "  creating build/temp.macosx-10.9-x86_64-3.9/src\n",
      "  clang -Wno-unused-result -Wsign-compare -Wunreachable-code -DNDEBUG -fwrapv -O2 -Wall -fPIC -O2 -isystem /Users/dhirajmarathe/opt/anaconda3/include -arch x86_64 -I/Users/dhirajmarathe/opt/anaconda3/include -fPIC -O2 -isystem /Users/dhirajmarathe/opt/anaconda3/include -arch x86_64 -I/Users/dhirajmarathe/opt/anaconda3/include/python3.9 -c src/compose.c -o build/temp.macosx-10.9-x86_64-3.9/src/compose.o\n",
      "  src/compose.c:96:6: error: no member named 'ob_type' in 'struct compose'\n",
      "          co->ob_type->tp_free(co);\n",
      "          ~~  ^\n",
      "  src/compose.c:137:6: error: implicit declaration of function 'PyString_FromFormat' is invalid in C99 [-Werror,-Wimplicit-function-declaration]\n",
      "          s = PyString_FromFormat(\"<composition on %s at %p>\",\n",
      "              ^\n",
      "  src/compose.c:137:6: note: did you mean 'PyBytes_FromFormat'?\n",
      "  /Users/dhirajmarathe/opt/anaconda3/include/python3.9/bytesobject.h:42:24: note: 'PyBytes_FromFormat' declared here\n",
      "  PyAPI_FUNC(PyObject *) PyBytes_FromFormat(const char*, ...)\n",
      "                         ^\n",
      "  src/compose.c:138:6: error: implicit declaration of function 'PyString_AsString' is invalid in C99 [-Werror,-Wimplicit-function-declaration]\n",
      "              PyString_AsString(grepr), (void *)co);\n",
      "              ^\n",
      "  src/compose.c:137:4: warning: incompatible integer to pointer conversion assigning to 'PyObject *' (aka 'struct _object *') from 'int' [-Wint-conversion]\n",
      "          s = PyString_FromFormat(\"<composition on %s at %p>\",\n",
      "            ^ ~~~~~~~~~~~~~~~~~~~~~~~~~~~~~~~~~~~~~~~~~~~~~~~~\n",
      "  src/compose.c:144:2: warning: suggest braces around initialization of subobject [-Wmissing-braces]\n",
      "          PyObject_HEAD_INIT(NULL)\n",
      "          ^~~~~~~~~~~~~~~~~~~~~~~~\n",
      "  /Users/dhirajmarathe/opt/anaconda3/include/python3.9/object.h:86:5: note: expanded from macro 'PyObject_HEAD_INIT'\n",
      "      1, type },\n",
      "      ^~~~~~~\n",
      "  src/compose.c:146:2: warning: incompatible pointer to integer conversion initializing 'Py_ssize_t' (aka 'long') with an expression of type 'char[8]' [-Wint-conversion]\n",
      "          \"compose\",                      /* tp_name */\n",
      "          ^~~~~~~~~\n",
      "  src/compose.c:150:2: warning: incompatible pointer to integer conversion initializing 'Py_ssize_t' (aka 'long') with an expression of type 'destructor' (aka 'void (*)(struct _object *)') [-Wint-conversion]\n",
      "          (destructor)compose_dealloc,    /* tp_dealloc */\n",
      "          ^~~~~~~~~~~~~~~~~~~~~~~~~~~\n",
      "  src/compose.c:155:2: warning: incompatible pointer types initializing 'PyNumberMethods *' with an expression of type 'reprfunc' (aka 'struct _object *(*)(struct _object *)') [-Wincompatible-pointer-types]\n",
      "          (reprfunc)compose_repr,         /* tp_repr */\n",
      "          ^~~~~~~~~~~~~~~~~~~~~~\n",
      "  src/compose.c:160:2: warning: incompatible function pointer types initializing 'reprfunc' (aka 'struct _object *(*)(struct _object *)') with an expression of type 'ternaryfunc' (aka 'struct _object *(*)(struct _object *, struct _object *, struct _object *)') [-Wincompatible-function-pointer-types]\n",
      "          (ternaryfunc)compose_call,      /* tp_call */\n",
      "          ^~~~~~~~~~~~~~~~~~~~~~~~~\n",
      "  src/compose.c:165:2: warning: incompatible integer to pointer conversion initializing 'const char *' with an expression of type 'unsigned long' [-Wint-conversion]\n",
      "          Py_TPFLAGS_DEFAULT | Py_TPFLAGS_HAVE_GC |\n",
      "          ^~~~~~~~~~~~~~~~~~~~~~~~~~~~~~~~~~~~~~~~~\n",
      "  /Users/dhirajmarathe/opt/anaconda3/include/python3.9/object.h:350:29: note: expanded from macro 'Py_TPFLAGS_DEFAULT'\n",
      "  #define Py_TPFLAGS_DEFAULT  ( \\\n",
      "                              ^\n",
      "  src/compose.c:167:2: warning: incompatible pointer types initializing 'traverseproc' (aka 'int (*)(struct _object *, int (*)(struct _object *, void *), void *)') with an expression of type 'const char[372]' [-Wincompatible-pointer-types]\n",
      "          compose_doc,                    /* tp_doc */\n",
      "          ^~~~~~~~~~~\n",
      "  src/compose.c:168:2: warning: incompatible function pointer types initializing 'inquiry' (aka 'int (*)(struct _object *)') with an expression of type 'traverseproc' (aka 'int (*)(struct _object *, int (*)(struct _object *, void *), void *)') [-Wincompatible-function-pointer-types]\n",
      "          (traverseproc)compose_traverse, /* tp_traverse */\n",
      "          ^~~~~~~~~~~~~~~~~~~~~~~~~~~~~~\n",
      "  src/compose.c:179:2: warning: incompatible function pointer types initializing 'descrsetfunc' (aka 'int (*)(struct _object *, struct _object *, struct _object *)') with an expression of type 'PyObject *(PyObject *, PyObject *)' (aka 'struct _object *(struct _object *, struct _object *)') [-Wincompatible-function-pointer-types]\n",
      "          PyMethod_New,                   /* tp_descr_get */\n",
      "          ^~~~~~~~~~~~\n",
      "  src/compose.c:184:2: warning: incompatible function pointer types initializing 'freefunc' (aka 'void (*)(void *)') with an expression of type 'PyObject *(PyTypeObject *, PyObject *, PyObject *)' (aka 'struct _object *(struct _typeobject *, struct _object *, struct _object *)') [-Wincompatible-function-pointer-types]\n",
      "          compose_new,                    /* tp_new */\n",
      "          ^~~~~~~~~~~\n",
      "  src/compose.c:185:2: warning: incompatible function pointer types initializing 'inquiry' (aka 'int (*)(struct _object *)') with an expression of type 'void (void *)' [-Wincompatible-function-pointer-types]\n",
      "          PyObject_GC_Del,                /* tp_free */\n",
      "          ^~~~~~~~~~~~~~~\n",
      "  12 warnings and 3 errors generated.\n",
      "  error: command '/usr/bin/clang' failed with exit code 1\n",
      "  ----------------------------------------\u001b[0m\n",
      "\u001b[31m  ERROR: Failed building wheel for functools\u001b[0m\n",
      "\u001b[?25h  Running setup.py clean for functools\n",
      "Failed to build functools\n",
      "Installing collected packages: functools\n",
      "    Running setup.py install for functools ... \u001b[?25lerror\n",
      "\u001b[31m    ERROR: Command errored out with exit status 1:\n",
      "     command: /Users/dhirajmarathe/opt/anaconda3/bin/python -u -c 'import io, os, sys, setuptools, tokenize; sys.argv[0] = '\"'\"'/private/var/folders/nv/9jn8dp9j3qn4qb674y2qj5k00000gn/T/pip-install-q7337v_n/functools_87fbad7e97a94b87a6a1bb54fd3aee03/setup.py'\"'\"'; __file__='\"'\"'/private/var/folders/nv/9jn8dp9j3qn4qb674y2qj5k00000gn/T/pip-install-q7337v_n/functools_87fbad7e97a94b87a6a1bb54fd3aee03/setup.py'\"'\"';f = getattr(tokenize, '\"'\"'open'\"'\"', open)(__file__) if os.path.exists(__file__) else io.StringIO('\"'\"'from setuptools import setup; setup()'\"'\"');code = f.read().replace('\"'\"'\\r\\n'\"'\"', '\"'\"'\\n'\"'\"');f.close();exec(compile(code, __file__, '\"'\"'exec'\"'\"'))' install --record /private/var/folders/nv/9jn8dp9j3qn4qb674y2qj5k00000gn/T/pip-record-4gtlf77_/install-record.txt --single-version-externally-managed --compile --install-headers /Users/dhirajmarathe/opt/anaconda3/include/python3.9/functools\n",
      "         cwd: /private/var/folders/nv/9jn8dp9j3qn4qb674y2qj5k00000gn/T/pip-install-q7337v_n/functools_87fbad7e97a94b87a6a1bb54fd3aee03/\n",
      "    Complete output (70 lines):\n",
      "    running install\n",
      "    /Users/dhirajmarathe/opt/anaconda3/lib/python3.9/site-packages/setuptools/command/install.py:34: SetuptoolsDeprecationWarning: setup.py install is deprecated. Use build and pip and other standards-based tools.\n",
      "      warnings.warn(\n",
      "    running build\n",
      "    running build_py\n",
      "    creating build\n",
      "    creating build/lib.macosx-10.9-x86_64-3.9\n",
      "    copying functools.py -> build/lib.macosx-10.9-x86_64-3.9\n",
      "    running build_ext\n",
      "    building '_functools' extension\n",
      "    creating build/temp.macosx-10.9-x86_64-3.9\n",
      "    creating build/temp.macosx-10.9-x86_64-3.9/src\n",
      "    clang -Wno-unused-result -Wsign-compare -Wunreachable-code -DNDEBUG -fwrapv -O2 -Wall -fPIC -O2 -isystem /Users/dhirajmarathe/opt/anaconda3/include -arch x86_64 -I/Users/dhirajmarathe/opt/anaconda3/include -fPIC -O2 -isystem /Users/dhirajmarathe/opt/anaconda3/include -arch x86_64 -I/Users/dhirajmarathe/opt/anaconda3/include/python3.9 -c src/compose.c -o build/temp.macosx-10.9-x86_64-3.9/src/compose.o\n",
      "    src/compose.c:96:6: error: no member named 'ob_type' in 'struct compose'\n",
      "            co->ob_type->tp_free(co);\n",
      "            ~~  ^\n",
      "    src/compose.c:137:6: error: implicit declaration of function 'PyString_FromFormat' is invalid in C99 [-Werror,-Wimplicit-function-declaration]\n",
      "            s = PyString_FromFormat(\"<composition on %s at %p>\",\n",
      "                ^\n",
      "    src/compose.c:137:6: note: did you mean 'PyBytes_FromFormat'?\n",
      "    /Users/dhirajmarathe/opt/anaconda3/include/python3.9/bytesobject.h:42:24: note: 'PyBytes_FromFormat' declared here\n",
      "    PyAPI_FUNC(PyObject *) PyBytes_FromFormat(const char*, ...)\n",
      "                           ^\n",
      "    src/compose.c:138:6: error: implicit declaration of function 'PyString_AsString' is invalid in C99 [-Werror,-Wimplicit-function-declaration]\n",
      "                PyString_AsString(grepr), (void *)co);\n",
      "                ^\n",
      "    src/compose.c:137:4: warning: incompatible integer to pointer conversion assigning to 'PyObject *' (aka 'struct _object *') from 'int' [-Wint-conversion]\n",
      "            s = PyString_FromFormat(\"<composition on %s at %p>\",\n",
      "              ^ ~~~~~~~~~~~~~~~~~~~~~~~~~~~~~~~~~~~~~~~~~~~~~~~~\n",
      "    src/compose.c:144:2: warning: suggest braces around initialization of subobject [-Wmissing-braces]\n",
      "            PyObject_HEAD_INIT(NULL)\n",
      "            ^~~~~~~~~~~~~~~~~~~~~~~~\n",
      "    /Users/dhirajmarathe/opt/anaconda3/include/python3.9/object.h:86:5: note: expanded from macro 'PyObject_HEAD_INIT'\n",
      "        1, type },\n",
      "        ^~~~~~~\n",
      "    src/compose.c:146:2: warning: incompatible pointer to integer conversion initializing 'Py_ssize_t' (aka 'long') with an expression of type 'char[8]' [-Wint-conversion]\n",
      "            \"compose\",                      /* tp_name */\n",
      "            ^~~~~~~~~\n",
      "    src/compose.c:150:2: warning: incompatible pointer to integer conversion initializing 'Py_ssize_t' (aka 'long') with an expression of type 'destructor' (aka 'void (*)(struct _object *)') [-Wint-conversion]\n",
      "            (destructor)compose_dealloc,    /* tp_dealloc */\n",
      "            ^~~~~~~~~~~~~~~~~~~~~~~~~~~\n",
      "    src/compose.c:155:2: warning: incompatible pointer types initializing 'PyNumberMethods *' with an expression of type 'reprfunc' (aka 'struct _object *(*)(struct _object *)') [-Wincompatible-pointer-types]\n",
      "            (reprfunc)compose_repr,         /* tp_repr */\n",
      "            ^~~~~~~~~~~~~~~~~~~~~~\n",
      "    src/compose.c:160:2: warning: incompatible function pointer types initializing 'reprfunc' (aka 'struct _object *(*)(struct _object *)') with an expression of type 'ternaryfunc' (aka 'struct _object *(*)(struct _object *, struct _object *, struct _object *)') [-Wincompatible-function-pointer-types]\n",
      "            (ternaryfunc)compose_call,      /* tp_call */\n",
      "            ^~~~~~~~~~~~~~~~~~~~~~~~~\n",
      "    src/compose.c:165:2: warning: incompatible integer to pointer conversion initializing 'const char *' with an expression of type 'unsigned long' [-Wint-conversion]\n",
      "            Py_TPFLAGS_DEFAULT | Py_TPFLAGS_HAVE_GC |\n",
      "            ^~~~~~~~~~~~~~~~~~~~~~~~~~~~~~~~~~~~~~~~~\n",
      "    /Users/dhirajmarathe/opt/anaconda3/include/python3.9/object.h:350:29: note: expanded from macro 'Py_TPFLAGS_DEFAULT'\n",
      "    #define Py_TPFLAGS_DEFAULT  ( \\\n",
      "                                ^\n",
      "    src/compose.c:167:2: warning: incompatible pointer types initializing 'traverseproc' (aka 'int (*)(struct _object *, int (*)(struct _object *, void *), void *)') with an expression of type 'const char[372]' [-Wincompatible-pointer-types]\n",
      "            compose_doc,                    /* tp_doc */\n",
      "            ^~~~~~~~~~~\n",
      "    src/compose.c:168:2: warning: incompatible function pointer types initializing 'inquiry' (aka 'int (*)(struct _object *)') with an expression of type 'traverseproc' (aka 'int (*)(struct _object *, int (*)(struct _object *, void *), void *)') [-Wincompatible-function-pointer-types]\n",
      "            (traverseproc)compose_traverse, /* tp_traverse */\n",
      "            ^~~~~~~~~~~~~~~~~~~~~~~~~~~~~~\n",
      "    src/compose.c:179:2: warning: incompatible function pointer types initializing 'descrsetfunc' (aka 'int (*)(struct _object *, struct _object *, struct _object *)') with an expression of type 'PyObject *(PyObject *, PyObject *)' (aka 'struct _object *(struct _object *, struct _object *)') [-Wincompatible-function-pointer-types]\n",
      "            PyMethod_New,                   /* tp_descr_get */\n",
      "            ^~~~~~~~~~~~\n",
      "    src/compose.c:184:2: warning: incompatible function pointer types initializing 'freefunc' (aka 'void (*)(void *)') with an expression of type 'PyObject *(PyTypeObject *, PyObject *, PyObject *)' (aka 'struct _object *(struct _typeobject *, struct _object *, struct _object *)') [-Wincompatible-function-pointer-types]\n",
      "            compose_new,                    /* tp_new */\n",
      "            ^~~~~~~~~~~\n",
      "    src/compose.c:185:2: warning: incompatible function pointer types initializing 'inquiry' (aka 'int (*)(struct _object *)') with an expression of type 'void (void *)' [-Wincompatible-function-pointer-types]\n",
      "            PyObject_GC_Del,                /* tp_free */\n",
      "            ^~~~~~~~~~~~~~~\n",
      "    12 warnings and 3 errors generated.\n",
      "    error: command '/usr/bin/clang' failed with exit code 1\n",
      "    ----------------------------------------\u001b[0m\n",
      "\u001b[31mERROR: Command errored out with exit status 1: /Users/dhirajmarathe/opt/anaconda3/bin/python -u -c 'import io, os, sys, setuptools, tokenize; sys.argv[0] = '\"'\"'/private/var/folders/nv/9jn8dp9j3qn4qb674y2qj5k00000gn/T/pip-install-q7337v_n/functools_87fbad7e97a94b87a6a1bb54fd3aee03/setup.py'\"'\"'; __file__='\"'\"'/private/var/folders/nv/9jn8dp9j3qn4qb674y2qj5k00000gn/T/pip-install-q7337v_n/functools_87fbad7e97a94b87a6a1bb54fd3aee03/setup.py'\"'\"';f = getattr(tokenize, '\"'\"'open'\"'\"', open)(__file__) if os.path.exists(__file__) else io.StringIO('\"'\"'from setuptools import setup; setup()'\"'\"');code = f.read().replace('\"'\"'\\r\\n'\"'\"', '\"'\"'\\n'\"'\"');f.close();exec(compile(code, __file__, '\"'\"'exec'\"'\"'))' install --record /private/var/folders/nv/9jn8dp9j3qn4qb674y2qj5k00000gn/T/pip-record-4gtlf77_/install-record.txt --single-version-externally-managed --compile --install-headers /Users/dhirajmarathe/opt/anaconda3/include/python3.9/functools Check the logs for full command output.\u001b[0m\n"
     ]
    },
    {
     "name": "stdout",
     "output_type": "stream",
     "text": [
      "\u001b[?25hNote: you may need to restart the kernel to use updated packages.\n"
     ]
    }
   ],
   "source": [
    "pip install functools"
   ]
  },
  {
   "cell_type": "code",
   "execution_count": 4,
   "id": "d16e3257",
   "metadata": {},
   "outputs": [
    {
     "name": "stdout",
     "output_type": "stream",
     "text": [
      "57\n"
     ]
    }
   ],
   "source": [
    "import functools\n",
    "s=[1,42,1,3,4,1,5]\n",
    "print(functools.reduce(lambda n, n1:n+n1, s))"
   ]
  },
  {
   "cell_type": "markdown",
   "id": "4c20916f",
   "metadata": {},
   "source": [
    "## class\n"
   ]
  },
  {
   "cell_type": "code",
   "execution_count": 5,
   "id": "1e5f134f",
   "metadata": {},
   "outputs": [
    {
     "name": "stdout",
     "output_type": "stream",
     "text": [
      "ravet\n",
      "inside the method\n"
     ]
    }
   ],
   "source": [
    "class pccoer:\n",
    "    addr = \"ravet\"\n",
    "    totalstudent = 500\n",
    "    def createfoundation(self):\n",
    "        print(\"inside the method\")\n",
    "p=pccoer()\n",
    "print(p.addr)\n",
    "p.createfoundation()"
   ]
  },
  {
   "cell_type": "code",
   "execution_count": 19,
   "id": "d5ea908a",
   "metadata": {},
   "outputs": [
    {
     "name": "stdout",
     "output_type": "stream",
     "text": [
      "enter length of password: 8\n",
      "N!e7uY$a\n"
     ]
    }
   ],
   "source": [
    "import random\n",
    "l=int(input(\"enter length of password: \"))\n",
    "s='1234567890qwertyuiopasdfghjklzxcvbnmQWERTYUIOPASDFGHJKLZXCVBNM!@#$%^&*'\n",
    "s1='1234567890'\n",
    "s2='qwertyuiopasdfghjklzxcvbnm'\n",
    "s3='QWERTYUIOPASDFGHJKLZXCVBNM'\n",
    "s4='!@#$%^&*'\n",
    "p=\"\".join(random.sample(s,l-4))\n",
    "p1=\"\".join(random.sample(s1,1))\n",
    "p2=\"\".join(random.sample(s2,1))\n",
    "p3=\"\".join(random.sample(s3,1))\n",
    "p4=\"\".join(random.sample(s4,1))\n",
    "lst=[p,p1,p2,p3,p4]\n",
    "print(\"\".join(random.sample(lst,5)))\n"
   ]
  },
  {
   "cell_type": "code",
   "execution_count": 43,
   "id": "fa417872",
   "metadata": {},
   "outputs": [
    {
     "name": "stdout",
     "output_type": "stream",
     "text": [
      "8\n",
      "['N', '2', 'J', '4', '%', 'S', 'Y', 'A']\n",
      "8\n"
     ]
    }
   ],
   "source": [
    "s='1234567890qwertyuiopasdfghjklzxcvbnmQWERTYUIOPASDFGHJKLZXCVBNM!@#$%^&*'\n",
    "s1='1234567890'\n",
    "s2='qwertyuiopasdfghjklzxcvbnm'\n",
    "s3='QWERTYUIOPASDFGHJKLZXCVBNM'\n",
    "s4='!@#$%^&*'\n",
    "c=0\n",
    "l=int(input())\n",
    "p=\"\".join(random.sample(s,l))\n",
    "#print(p)\n",
    "q=list(p)\n",
    "print(q)\n",
    "for i in range(len(q)):\n",
    "    if q[i] in s1 or q[i] in s2 or q[i] in s3 or q[i] in s4:\n",
    "        c+=1\n",
    "print(c)\n",
    "# while True:\n",
    "# #     q=list()\n",
    "#     break\n"
   ]
  },
  {
   "cell_type": "code",
   "execution_count": 67,
   "id": "6b34f141",
   "metadata": {},
   "outputs": [
    {
     "name": "stdout",
     "output_type": "stream",
     "text": [
      "6\n"
     ]
    }
   ],
   "source": [
    "s='123456'\n",
    "p=\"\".join(random.sample(s,1))\n",
    "print(p)"
   ]
  },
  {
   "cell_type": "code",
   "execution_count": 81,
   "id": "289cb891",
   "metadata": {},
   "outputs": [
    {
     "name": "stdout",
     "output_type": "stream",
     "text": [
      "enter you inputpaper\n",
      "stone\n",
      "paper\n",
      "You Won\n"
     ]
    }
   ],
   "source": [
    "l=['stone','paper','scissor']\n",
    "p1=\"\".join(random.sample(l,1))\n",
    "p2=input(\"enter you input\")\n",
    "print(p1)\n",
    "print(p2)\n",
    "if(p2==p1):\n",
    "    print(\"tie\")\n",
    "elif((p1=='stone' and p2=='paper') or (pl=='paper' and p2=='scissor') or (p1=='scissor' and p2=='stone')):\n",
    "    print(\"You Won\")\n",
    "else:\n",
    "    print(\"You Lose\")\n",
    "# print(p1)"
   ]
  },
  {
   "cell_type": "code",
   "execution_count": 83,
   "id": "1141f945",
   "metadata": {},
   "outputs": [
    {
     "name": "stdout",
     "output_type": "stream",
     "text": [
      "TPO\n"
     ]
    }
   ],
   "source": [
    "class pcet:\n",
    "    tpo = \"TPO\"\n",
    "\n",
    "class pccoer(pcet):\n",
    "    addr = \"ravet\"\n",
    "    totalstudent = 500\n",
    "    def createfoundation(self):\n",
    "        print(\"inside the method\")\n",
    "t=pcet()\n",
    "r=pccoer()\n",
    "print(t.tpo)"
   ]
  },
  {
   "cell_type": "code",
   "execution_count": 85,
   "id": "458f8517",
   "metadata": {},
   "outputs": [
    {
     "name": "stdout",
     "output_type": "stream",
     "text": [
      "TPO\n"
     ]
    }
   ],
   "source": [
    "class pcet:\n",
    "    tpo = \"TPO\"\n",
    "class pccoe:\n",
    "    faculties = 250\n",
    "class pccoer(pcet,pccoe):\n",
    "    addr = \"ravet\"\n",
    "    totalstudent = 500\n",
    "    def createfoundation(self):\n",
    "        print(\"inside the method\")\n",
    "t=pcet()\n",
    "r=pccoer()\n",
    "print(r.tpo)"
   ]
  },
  {
   "cell_type": "markdown",
   "id": "57ee8b22",
   "metadata": {},
   "source": [
    "## overloading"
   ]
  },
  {
   "cell_type": "code",
   "execution_count": 2,
   "id": "b4d742df",
   "metadata": {},
   "outputs": [
    {
     "name": "stdout",
     "output_type": "stream",
     "text": [
      "30\n",
      "60\n"
     ]
    }
   ],
   "source": [
    "def add(a,b,c=0):\n",
    "    return a+b+c\n",
    "print(add(10,20))\n",
    "print(add(10,20,30))"
   ]
  },
  {
   "cell_type": "markdown",
   "id": "9787d62c",
   "metadata": {},
   "source": [
    "## overriding"
   ]
  },
  {
   "cell_type": "code",
   "execution_count": 9,
   "id": "12dc43c4",
   "metadata": {},
   "outputs": [
    {
     "name": "stdout",
     "output_type": "stream",
     "text": [
      "swift\n",
      "take it carefully\n"
     ]
    }
   ],
   "source": [
    "class parent:\n",
    "    vehicle='bmw'\n",
    "    def getkeys(self):                                    ###we can use any thing in the place of self\n",
    "        print(\"ride it carefully\")\n",
    "class child(parent):                    \n",
    "    vehicle='swift'\n",
    "    def getkeys(self):\n",
    "        print(\"take it carefully\")\n",
    "o=child()\n",
    "print(o.vehicle)\n",
    "o.getkeys()"
   ]
  },
  {
   "cell_type": "code",
   "execution_count": 14,
   "id": "3e8413b6",
   "metadata": {},
   "outputs": [
    {
     "name": "stdout",
     "output_type": "stream",
     "text": [
      "we have bmw\n",
      "we have audi\n"
     ]
    }
   ],
   "source": [
    "class parent:\n",
    "    vehicle='bmw'\n",
    "    def getkeys(pccoer):\n",
    "        print(\"ride it carefully\")\n",
    "class child(parent):\n",
    "    def getvehiclename(pcet):\n",
    "        print(f\"we have {pcet.vehicle}\")\n",
    "              \n",
    "              \n",
    "o = child()\n",
    "o.getvehiclename()\n",
    "o.vehicle = 'audi'\n",
    "o.getvehiclename()"
   ]
  },
  {
   "cell_type": "markdown",
   "id": "1cac42b6",
   "metadata": {},
   "source": [
    "## constructor"
   ]
  },
  {
   "cell_type": "code",
   "execution_count": 27,
   "id": "c283f6f0",
   "metadata": {},
   "outputs": [
    {
     "name": "stdout",
     "output_type": "stream",
     "text": [
      "100\n",
      "100\n",
      "channel is changed to 1204\n"
     ]
    }
   ],
   "source": [
    "class tv:\n",
    "    channel = ''\n",
    "    def __init__(self):\n",
    "        print(\"100\")\n",
    "        self.channel = 100\n",
    "        \n",
    "    def changechannel(self,num):\n",
    "        self.channel = num\n",
    "        print(f\"channel is changed to {self.channel}\")\n",
    "\n",
    "t = tv()\n",
    "print(t.channel)\n",
    "t.changechannel(1204)"
   ]
  },
  {
   "cell_type": "code",
   "execution_count": 36,
   "id": "d83f3790",
   "metadata": {},
   "outputs": [
    {
     "name": "stdout",
     "output_type": "stream",
     "text": [
      "15000\n",
      "remaning balance is 14000\n"
     ]
    }
   ],
   "source": [
    "class bank:\n",
    "    account='2345678'\n",
    "    balance = 15000\n",
    "    def checkbalance(self):\n",
    "        print(f\"your balance is {self.balance}\")\n",
    "    def updatebalance(self,amount):\n",
    "        self.balance -= amount\n",
    "        print(f\"remaning balance is {self.balance}\")\n",
    "        \n",
    "    def transfermoney(self,amount):\n",
    "        print(f\"amount transfered: {amount}\")\n",
    "        self.updatebalance -= amount\n",
    "b=bank()\n",
    "print(b.balance)\n",
    "b.checkbalance\n",
    "b.updatebalance(1000)\n",
    "        "
   ]
  },
  {
   "cell_type": "code",
   "execution_count": 40,
   "id": "e980e834",
   "metadata": {},
   "outputs": [
    {
     "name": "stdout",
     "output_type": "stream",
     "text": [
      "amount transfered: 1000\n",
      "remaning balance is 14000\n"
     ]
    }
   ],
   "source": [
    "class bank:\n",
    "    account='2345678'\n",
    "    balance = 15000\n",
    "    def checkbalance(self):\n",
    "        print(f\"your balance is {self.balance}\")\n",
    "    def __updatebalance(self,amount):\n",
    "        self.balance -= amount\n",
    "        print(f\"remaning balance is {self.balance}\")\n",
    "        \n",
    "    def _transfermoney(self,amount):\n",
    "        print(f\"amount transfered: {amount}\")\n",
    "        self.__updatebalance(amount)\n",
    "b=bank()\n",
    "b._transfermoney(1000)"
   ]
  },
  {
   "cell_type": "code",
   "execution_count": 43,
   "id": "9be05636",
   "metadata": {},
   "outputs": [
    {
     "name": "stdout",
     "output_type": "stream",
     "text": [
      "your balance is 15000\n",
      "amount transfered: 1000\n",
      "remaning balance is 14000\n"
     ]
    }
   ],
   "source": [
    "class bank:\n",
    "    account='2345678'\n",
    "    balance = 15000\n",
    "    def checkbalance(self):\n",
    "        print(f\"your balance is {self.balance}\")\n",
    "    def __updatebalance(self,amount):\n",
    "        self.balance -= amount\n",
    "        print(f\"remaning balance is {self.balance}\")\n",
    "        \n",
    "    def _transfermoney(self,amount):\n",
    "        print(f\"amount transfered: {amount}\")\n",
    "        self.__updatebalance(amount)\n",
    "class person(bank):\n",
    "    name=''\n",
    "b=person()\n",
    "b.checkbalance()\n",
    "b._transfermoney(1000)"
   ]
  },
  {
   "cell_type": "code",
   "execution_count": 44,
   "id": "9cc94bb7",
   "metadata": {},
   "outputs": [
    {
     "name": "stdout",
     "output_type": "stream",
     "text": [
      "Collecting qrcode\n",
      "  Downloading qrcode-7.4.2-py3-none-any.whl (46 kB)\n",
      "\u001b[K     |████████████████████████████████| 46 kB 219 kB/s eta 0:00:01\n",
      "\u001b[?25hCollecting pypng\n",
      "  Downloading pypng-0.20220715.0-py3-none-any.whl (58 kB)\n",
      "\u001b[K     |████████████████████████████████| 58 kB 1.2 MB/s eta 0:00:01\n",
      "\u001b[?25hRequirement already satisfied: typing-extensions in ./opt/anaconda3/lib/python3.9/site-packages (from qrcode) (4.1.1)\n",
      "Installing collected packages: pypng, qrcode\n",
      "Successfully installed pypng-0.20220715.0 qrcode-7.4.2\n",
      "Note: you may need to restart the kernel to use updated packages.\n"
     ]
    }
   ],
   "source": [
    "pip install qrcode"
   ]
  },
  {
   "cell_type": "markdown",
   "id": "65688a5d",
   "metadata": {},
   "source": [
    "## QR CODE\n"
   ]
  },
  {
   "cell_type": "code",
   "execution_count": 1,
   "id": "377a99f3",
   "metadata": {},
   "outputs": [
    {
     "name": "stdout",
     "output_type": "stream",
     "text": [
      "Requirement already satisfied: pyqrcode in ./opt/anaconda3/lib/python3.9/site-packages (1.2.1)\n",
      "Note: you may need to restart the kernel to use updated packages.\n"
     ]
    }
   ],
   "source": [
    "pip install pyqrcode"
   ]
  },
  {
   "cell_type": "code",
   "execution_count": 4,
   "id": "c8c01056",
   "metadata": {},
   "outputs": [
    {
     "name": "stdout",
     "output_type": "stream",
     "text": [
      "Requirement already satisfied: pypng in ./opt/anaconda3/lib/python3.9/site-packages (0.20220715.0)\n",
      "Note: you may need to restart the kernel to use updated packages.\n"
     ]
    }
   ],
   "source": [
    "pip install pypng"
   ]
  },
  {
   "cell_type": "code",
   "execution_count": null,
   "id": "30732653",
   "metadata": {},
   "outputs": [],
   "source": [
    "from pyqrcode import QRCode\n",
    "url = pyqrcode.create(\"https://www.codechef.com/users/marathedhiraj4\")\n",
    "url.svg(\"myt.heif\", scale = 8)"
   ]
  },
  {
   "cell_type": "markdown",
   "id": "38086e96",
   "metadata": {},
   "source": [
    "## window"
   ]
  },
  {
   "cell_type": "code",
   "execution_count": 9,
   "id": "9359e106",
   "metadata": {},
   "outputs": [],
   "source": [
    "# from tkinter import *\n",
    "window = Tk()\n",
    "def convert():\n",
    "    gram=float(e2v.get())*1000\n",
    "    pound=float(e2v.get())*2.20462\n",
    "    ounce=float(e2v.get())*35.27\n",
    "    t1.delete(\"1.0\",END)\n",
    "    t1.insert(END, gram)\n",
    "    t2.delete(\"1.0\",END)\n",
    "    t2.insert(END, pound)\n",
    "    t3.delete(\"1.0\",END)\n",
    "    t3.insert(END, ounce)\n",
    "\n",
    "\n",
    "e1 = Label(window, text=\"hi there /////\")\n",
    "e2v = StringVar()\n",
    "e2 = Entry(window,textvariable=e2v)\n",
    "e3 = Label(window,text='gram')\n",
    "e4 = Label(window,text='pound')\n",
    "e5 = Label(window,text='ounce')\n",
    "\n",
    "t1 = Text(window,height=5,width=30)\n",
    "t2 = Text(window,height=5,width=30)\n",
    "t3 = Text(window,height=5,width=30)\n",
    "b1 = Button(window,text=\"Convert\",command=convert)\n",
    "e2.grid(row=0,column=1)\n",
    "e3.grid(row=1,column=0)\n",
    "e4.grid(row=1,column=1)\n",
    "e5.grid(row=1,column=2)\n",
    "t1.grid(row=2,column=0)\n",
    "t2.grid(row=2,column=1)\n",
    "t3.grid(row=2,column=2)\n",
    "b1.grid(row=0,column=2)\n",
    "#b1.place(x=100,y=100)\n",
    "window.mainloop()\n",
    "\n"
   ]
  },
  {
   "cell_type": "code",
   "execution_count": 48,
   "id": "91a51763",
   "metadata": {},
   "outputs": [],
   "source": [
    "# from tkinter import *\n",
    "window = Tk()\n",
    "def convert():\n",
    "    Fahrenheit=(float(e2v.get())*9/5)+32\n",
    "\n",
    "    t1.delete(\"1.0\",END)\n",
    "    t1.insert(END,Fahrenheit)\n",
    "def convert1():\n",
    "    a=float(e4v.get())/(float(e3v.get())**2)\n",
    "    \n",
    "    t2.delete(\"1.0\",END)\n",
    "    t2.insert(END,a)\n",
    "\n",
    "\n",
    "e1 = Label(window, text=\"input degree\")\n",
    "e2v = StringVar()\n",
    "e2 = Entry(window,textvariable=e2v)\n",
    "fo = Label(window,text='Fahrenheit is:')\n",
    "e3v=StringVar()\n",
    "e3 = Label(window,text='input height')\n",
    "h = Entry(window,textvariable=e3v)\n",
    "e4v=StringVar()\n",
    "e4 = Label(window,text='input weight')\n",
    "w = Entry(window,textvariable=e4v)\n",
    "ho = Label(window,text='bmi')\n",
    "\n",
    "b1 = Button(window,text=\"Convert fara to degree\",command=convert)\n",
    "b2 = Button(window,text=\"Convert height weight to bmi \",command=convert1)\n",
    "e1.grid(row=0,column=1)\n",
    "e2.grid(row=1,column=1)\n",
    "#fo.grid(row=0,column=2)\n",
    "e3.grid(row=0,column=2)\n",
    "h.grid(row=1,column=2)\n",
    "e4.grid(row=0,column=3)\n",
    "w.grid(row=1,column=3)\n",
    "t1 = Text(window,height=5,width=30)\n",
    "t2 = Text(window,height=5,width=30)\n",
    "fo.grid(row=2,column=1)\n",
    "t1.grid(row=3,column=1)\n",
    "b1.grid(row=4,column=1)\n",
    "ho.grid(row=2,column=3)\n",
    "t2.grid(row=3,column=3)\n",
    "b2.grid(row=4,column=3)\n",
    "\n",
    "\n",
    "window.mainloop()"
   ]
  },
  {
   "cell_type": "markdown",
   "id": "ee4b4ef7",
   "metadata": {},
   "source": [
    "## digital clock"
   ]
  },
  {
   "cell_type": "code",
   "execution_count": 39,
   "id": "d29b0597",
   "metadata": {},
   "outputs": [],
   "source": [
    "import time\n",
    "from tkinter import Label, Tk\n",
    "\n",
    "app_window = Tk()\n",
    "app_window.title(\"Digital Clock\")\n",
    "app_window.geometry(\"420x150\")\n",
    "app_window.resizable(1, 1)\n",
    "\n",
    "text_font = (\"Boulder\", 68, 'bold')\n",
    "background = \"#000000\"\n",
    "foreground = \"#ede9e9\"\n",
    "border_width = 25\n",
    "\n",
    "label = Label(app_window, font=text_font, bg=background, fg=foreground, bd=border_width)\n",
    "label.grid(row=0, column=1)\n",
    "\n",
    "\n",
    "def digital_clock():\n",
    "    time_live = time.strftime(\"%H:%M:%S\")\n",
    "    label.config(text=time_live)\n",
    "    label.after(200, digital_clock)\n",
    "\n",
    "\n",
    "digital_clock()\n",
    "app_window.mainloop()"
   ]
  },
  {
   "cell_type": "markdown",
   "id": "e7b8a9d0",
   "metadata": {},
   "source": [
    "## FLASK"
   ]
  },
  {
   "cell_type": "code",
   "execution_count": 1,
   "id": "ce35b153",
   "metadata": {},
   "outputs": [
    {
     "name": "stdout",
     "output_type": "stream",
     "text": [
      "Requirement already satisfied: flask in ./opt/anaconda3/lib/python3.9/site-packages (1.1.2)\n",
      "Requirement already satisfied: Werkzeug>=0.15 in ./opt/anaconda3/lib/python3.9/site-packages (from flask) (2.0.3)\n",
      "Requirement already satisfied: Jinja2>=2.10.1 in ./opt/anaconda3/lib/python3.9/site-packages (from flask) (2.11.3)\n",
      "Requirement already satisfied: click>=5.1 in ./opt/anaconda3/lib/python3.9/site-packages (from flask) (8.0.4)\n",
      "Requirement already satisfied: itsdangerous>=0.24 in ./opt/anaconda3/lib/python3.9/site-packages (from flask) (2.0.1)\n",
      "Requirement already satisfied: MarkupSafe>=0.23 in ./opt/anaconda3/lib/python3.9/site-packages (from Jinja2>=2.10.1->flask) (2.0.1)\n",
      "Note: you may need to restart the kernel to use updated packages.\n"
     ]
    }
   ],
   "source": [
    "pip install flask"
   ]
  },
  {
   "cell_type": "code",
   "execution_count": 1,
   "id": "f985b159",
   "metadata": {},
   "outputs": [],
   "source": [
    "import flask"
   ]
  },
  {
   "cell_type": "code",
   "execution_count": 8,
   "id": "dddfab4c",
   "metadata": {},
   "outputs": [
    {
     "name": "stdout",
     "output_type": "stream",
     "text": [
      " * Serving Flask app \"__main__\" (lazy loading)\n",
      " * Environment: production\n",
      "\u001b[31m   WARNING: This is a development server. Do not use it in a production deployment.\u001b[0m\n",
      "\u001b[2m   Use a production WSGI server instead.\u001b[0m\n",
      " * Debug mode: off\n"
     ]
    },
    {
     "name": "stderr",
     "output_type": "stream",
     "text": [
      " * Running on http://127.0.0.1:5000/ (Press CTRL+C to quit)\n",
      "127.0.0.1 - - [02/Mar/2023 15:33:07] \"GET / HTTP/1.1\" 200 -\n",
      "127.0.0.1 - - [02/Mar/2023 15:33:15] \"GET /bmi/10/20 HTTP/1.1\" 200 -\n"
     ]
    }
   ],
   "source": [
    "from flask import Flask\n",
    "app = Flask(__name__)\n",
    "\n",
    "@app.route('/')\n",
    "def hello_world():\n",
    "    return 'hello'\n",
    "\n",
    "@app.route('/bmi/<int:h>/<int:w>')\n",
    "def getBMI(h,w):\n",
    "    bmi = w/(h**2)\n",
    "    return f\"your bmi is {bmi}\"\n",
    "@app.route('/rev/<float:revNo>')\n",
    "def revision(revNo):\n",
    "    return f'Revision Number {revNo}'\n",
    "\n",
    "if  __name__ == '__main__':\n",
    "    app.run()"
   ]
  },
  {
   "cell_type": "code",
   "execution_count": 13,
   "id": "442a4f54",
   "metadata": {},
   "outputs": [
    {
     "name": "stdout",
     "output_type": "stream",
     "text": [
      " * Serving Flask app \"__main__\" (lazy loading)\n",
      " * Environment: production\n",
      "\u001b[31m   WARNING: This is a development server. Do not use it in a production deployment.\u001b[0m\n",
      "\u001b[2m   Use a production WSGI server instead.\u001b[0m\n",
      " * Debug mode: off\n"
     ]
    },
    {
     "ename": "OSError",
     "evalue": "[Errno 48] Address already in use",
     "output_type": "error",
     "traceback": [
      "\u001b[0;31m---------------------------------------------------------------------------\u001b[0m",
      "\u001b[0;31mOSError\u001b[0m                                   Traceback (most recent call last)",
      "Input \u001b[0;32mIn [13]\u001b[0m, in \u001b[0;36m<cell line: 8>\u001b[0;34m()\u001b[0m\n\u001b[1;32m      6\u001b[0m     \u001b[38;5;28;01mreturn\u001b[39;00m render_template(\u001b[38;5;124m'\u001b[39m\u001b[38;5;124mqw.html\u001b[39m\u001b[38;5;124m'\u001b[39m)\n\u001b[1;32m      8\u001b[0m \u001b[38;5;28;01mif\u001b[39;00m  \u001b[38;5;18m__name__\u001b[39m \u001b[38;5;241m==\u001b[39m \u001b[38;5;124m'\u001b[39m\u001b[38;5;124m__main__\u001b[39m\u001b[38;5;124m'\u001b[39m:\n\u001b[0;32m----> 9\u001b[0m     \u001b[43mapp\u001b[49m\u001b[38;5;241;43m.\u001b[39;49m\u001b[43mrun\u001b[49m\u001b[43m(\u001b[49m\u001b[43m)\u001b[49m\n",
      "File \u001b[0;32m~/opt/anaconda3/lib/python3.9/site-packages/flask/app.py:990\u001b[0m, in \u001b[0;36mFlask.run\u001b[0;34m(self, host, port, debug, load_dotenv, **options)\u001b[0m\n\u001b[1;32m    987\u001b[0m \u001b[38;5;28;01mfrom\u001b[39;00m \u001b[38;5;21;01mwerkzeug\u001b[39;00m\u001b[38;5;21;01m.\u001b[39;00m\u001b[38;5;21;01mserving\u001b[39;00m \u001b[38;5;28;01mimport\u001b[39;00m run_simple\n\u001b[1;32m    989\u001b[0m \u001b[38;5;28;01mtry\u001b[39;00m:\n\u001b[0;32m--> 990\u001b[0m     \u001b[43mrun_simple\u001b[49m\u001b[43m(\u001b[49m\u001b[43mhost\u001b[49m\u001b[43m,\u001b[49m\u001b[43m \u001b[49m\u001b[43mport\u001b[49m\u001b[43m,\u001b[49m\u001b[43m \u001b[49m\u001b[38;5;28;43mself\u001b[39;49m\u001b[43m,\u001b[49m\u001b[43m \u001b[49m\u001b[38;5;241;43m*\u001b[39;49m\u001b[38;5;241;43m*\u001b[39;49m\u001b[43moptions\u001b[49m\u001b[43m)\u001b[49m\n\u001b[1;32m    991\u001b[0m \u001b[38;5;28;01mfinally\u001b[39;00m:\n\u001b[1;32m    992\u001b[0m     \u001b[38;5;66;03m# reset the first request information if the development server\u001b[39;00m\n\u001b[1;32m    993\u001b[0m     \u001b[38;5;66;03m# reset normally.  This makes it possible to restart the server\u001b[39;00m\n\u001b[1;32m    994\u001b[0m     \u001b[38;5;66;03m# without reloader and that stuff from an interactive shell.\u001b[39;00m\n\u001b[1;32m    995\u001b[0m     \u001b[38;5;28mself\u001b[39m\u001b[38;5;241m.\u001b[39m_got_first_request \u001b[38;5;241m=\u001b[39m \u001b[38;5;28;01mFalse\u001b[39;00m\n",
      "File \u001b[0;32m~/opt/anaconda3/lib/python3.9/site-packages/werkzeug/serving.py:1017\u001b[0m, in \u001b[0;36mrun_simple\u001b[0;34m(hostname, port, application, use_reloader, use_debugger, use_evalex, extra_files, exclude_patterns, reloader_interval, reloader_type, threaded, processes, request_handler, static_files, passthrough_errors, ssl_context)\u001b[0m\n\u001b[1;32m   1009\u001b[0m     _rwr(\n\u001b[1;32m   1010\u001b[0m         inner,\n\u001b[1;32m   1011\u001b[0m         extra_files\u001b[38;5;241m=\u001b[39mextra_files,\n\u001b[0;32m   (...)\u001b[0m\n\u001b[1;32m   1014\u001b[0m         reloader_type\u001b[38;5;241m=\u001b[39mreloader_type,\n\u001b[1;32m   1015\u001b[0m     )\n\u001b[1;32m   1016\u001b[0m \u001b[38;5;28;01melse\u001b[39;00m:\n\u001b[0;32m-> 1017\u001b[0m     \u001b[43minner\u001b[49m\u001b[43m(\u001b[49m\u001b[43m)\u001b[49m\n",
      "File \u001b[0;32m~/opt/anaconda3/lib/python3.9/site-packages/werkzeug/serving.py:957\u001b[0m, in \u001b[0;36mrun_simple.<locals>.inner\u001b[0;34m()\u001b[0m\n\u001b[1;32m    955\u001b[0m \u001b[38;5;28;01mexcept\u001b[39;00m (\u001b[38;5;167;01mLookupError\u001b[39;00m, \u001b[38;5;167;01mValueError\u001b[39;00m):\n\u001b[1;32m    956\u001b[0m     fd \u001b[38;5;241m=\u001b[39m \u001b[38;5;28;01mNone\u001b[39;00m\n\u001b[0;32m--> 957\u001b[0m srv \u001b[38;5;241m=\u001b[39m \u001b[43mmake_server\u001b[49m\u001b[43m(\u001b[49m\n\u001b[1;32m    958\u001b[0m \u001b[43m    \u001b[49m\u001b[43mhostname\u001b[49m\u001b[43m,\u001b[49m\n\u001b[1;32m    959\u001b[0m \u001b[43m    \u001b[49m\u001b[43mport\u001b[49m\u001b[43m,\u001b[49m\n\u001b[1;32m    960\u001b[0m \u001b[43m    \u001b[49m\u001b[43mapplication\u001b[49m\u001b[43m,\u001b[49m\n\u001b[1;32m    961\u001b[0m \u001b[43m    \u001b[49m\u001b[43mthreaded\u001b[49m\u001b[43m,\u001b[49m\n\u001b[1;32m    962\u001b[0m \u001b[43m    \u001b[49m\u001b[43mprocesses\u001b[49m\u001b[43m,\u001b[49m\n\u001b[1;32m    963\u001b[0m \u001b[43m    \u001b[49m\u001b[43mrequest_handler\u001b[49m\u001b[43m,\u001b[49m\n\u001b[1;32m    964\u001b[0m \u001b[43m    \u001b[49m\u001b[43mpassthrough_errors\u001b[49m\u001b[43m,\u001b[49m\n\u001b[1;32m    965\u001b[0m \u001b[43m    \u001b[49m\u001b[43mssl_context\u001b[49m\u001b[43m,\u001b[49m\n\u001b[1;32m    966\u001b[0m \u001b[43m    \u001b[49m\u001b[43mfd\u001b[49m\u001b[38;5;241;43m=\u001b[39;49m\u001b[43mfd\u001b[49m\u001b[43m,\u001b[49m\n\u001b[1;32m    967\u001b[0m \u001b[43m\u001b[49m\u001b[43m)\u001b[49m\n\u001b[1;32m    968\u001b[0m \u001b[38;5;28;01mif\u001b[39;00m fd \u001b[38;5;129;01mis\u001b[39;00m \u001b[38;5;28;01mNone\u001b[39;00m:\n\u001b[1;32m    969\u001b[0m     log_startup(srv\u001b[38;5;241m.\u001b[39msocket)\n",
      "File \u001b[0;32m~/opt/anaconda3/lib/python3.9/site-packages/werkzeug/serving.py:789\u001b[0m, in \u001b[0;36mmake_server\u001b[0;34m(host, port, app, threaded, processes, request_handler, passthrough_errors, ssl_context, fd)\u001b[0m\n\u001b[1;32m    787\u001b[0m     \u001b[38;5;28;01mraise\u001b[39;00m \u001b[38;5;167;01mValueError\u001b[39;00m(\u001b[38;5;124m\"\u001b[39m\u001b[38;5;124mcannot have a multithreaded and multi process server.\u001b[39m\u001b[38;5;124m\"\u001b[39m)\n\u001b[1;32m    788\u001b[0m \u001b[38;5;28;01melif\u001b[39;00m threaded:\n\u001b[0;32m--> 789\u001b[0m     \u001b[38;5;28;01mreturn\u001b[39;00m \u001b[43mThreadedWSGIServer\u001b[49m\u001b[43m(\u001b[49m\n\u001b[1;32m    790\u001b[0m \u001b[43m        \u001b[49m\u001b[43mhost\u001b[49m\u001b[43m,\u001b[49m\u001b[43m \u001b[49m\u001b[43mport\u001b[49m\u001b[43m,\u001b[49m\u001b[43m \u001b[49m\u001b[43mapp\u001b[49m\u001b[43m,\u001b[49m\u001b[43m \u001b[49m\u001b[43mrequest_handler\u001b[49m\u001b[43m,\u001b[49m\u001b[43m \u001b[49m\u001b[43mpassthrough_errors\u001b[49m\u001b[43m,\u001b[49m\u001b[43m \u001b[49m\u001b[43mssl_context\u001b[49m\u001b[43m,\u001b[49m\u001b[43m \u001b[49m\u001b[43mfd\u001b[49m\u001b[38;5;241;43m=\u001b[39;49m\u001b[43mfd\u001b[49m\n\u001b[1;32m    791\u001b[0m \u001b[43m    \u001b[49m\u001b[43m)\u001b[49m\n\u001b[1;32m    792\u001b[0m \u001b[38;5;28;01melif\u001b[39;00m processes \u001b[38;5;241m>\u001b[39m \u001b[38;5;241m1\u001b[39m:\n\u001b[1;32m    793\u001b[0m     \u001b[38;5;28;01mreturn\u001b[39;00m ForkingWSGIServer(\n\u001b[1;32m    794\u001b[0m         host,\n\u001b[1;32m    795\u001b[0m         port,\n\u001b[0;32m   (...)\u001b[0m\n\u001b[1;32m    801\u001b[0m         fd\u001b[38;5;241m=\u001b[39mfd,\n\u001b[1;32m    802\u001b[0m     )\n",
      "File \u001b[0;32m~/opt/anaconda3/lib/python3.9/site-packages/werkzeug/serving.py:693\u001b[0m, in \u001b[0;36mBaseWSGIServer.__init__\u001b[0;34m(self, host, port, app, handler, passthrough_errors, ssl_context, fd)\u001b[0m\n\u001b[1;32m    690\u001b[0m     \u001b[38;5;28;01mif\u001b[39;00m os\u001b[38;5;241m.\u001b[39mpath\u001b[38;5;241m.\u001b[39mexists(server_address):\n\u001b[1;32m    691\u001b[0m         os\u001b[38;5;241m.\u001b[39munlink(server_address)\n\u001b[0;32m--> 693\u001b[0m \u001b[38;5;28;43msuper\u001b[39;49m\u001b[43m(\u001b[49m\u001b[43m)\u001b[49m\u001b[38;5;241;43m.\u001b[39;49m\u001b[38;5;21;43m__init__\u001b[39;49m\u001b[43m(\u001b[49m\u001b[43mserver_address\u001b[49m\u001b[43m,\u001b[49m\u001b[43m \u001b[49m\u001b[43mhandler\u001b[49m\u001b[43m)\u001b[49m  \u001b[38;5;66;03m# type: ignore\u001b[39;00m\n\u001b[1;32m    695\u001b[0m \u001b[38;5;28mself\u001b[39m\u001b[38;5;241m.\u001b[39mapp \u001b[38;5;241m=\u001b[39m app\n\u001b[1;32m    696\u001b[0m \u001b[38;5;28mself\u001b[39m\u001b[38;5;241m.\u001b[39mpassthrough_errors \u001b[38;5;241m=\u001b[39m passthrough_errors\n",
      "File \u001b[0;32m~/opt/anaconda3/lib/python3.9/socketserver.py:452\u001b[0m, in \u001b[0;36mTCPServer.__init__\u001b[0;34m(self, server_address, RequestHandlerClass, bind_and_activate)\u001b[0m\n\u001b[1;32m    450\u001b[0m \u001b[38;5;28;01mif\u001b[39;00m bind_and_activate:\n\u001b[1;32m    451\u001b[0m     \u001b[38;5;28;01mtry\u001b[39;00m:\n\u001b[0;32m--> 452\u001b[0m         \u001b[38;5;28;43mself\u001b[39;49m\u001b[38;5;241;43m.\u001b[39;49m\u001b[43mserver_bind\u001b[49m\u001b[43m(\u001b[49m\u001b[43m)\u001b[49m\n\u001b[1;32m    453\u001b[0m         \u001b[38;5;28mself\u001b[39m\u001b[38;5;241m.\u001b[39mserver_activate()\n\u001b[1;32m    454\u001b[0m     \u001b[38;5;28;01mexcept\u001b[39;00m:\n",
      "File \u001b[0;32m~/opt/anaconda3/lib/python3.9/http/server.py:136\u001b[0m, in \u001b[0;36mHTTPServer.server_bind\u001b[0;34m(self)\u001b[0m\n\u001b[1;32m    134\u001b[0m \u001b[38;5;28;01mdef\u001b[39;00m \u001b[38;5;21mserver_bind\u001b[39m(\u001b[38;5;28mself\u001b[39m):\n\u001b[1;32m    135\u001b[0m     \u001b[38;5;124;03m\"\"\"Override server_bind to store the server name.\"\"\"\u001b[39;00m\n\u001b[0;32m--> 136\u001b[0m     \u001b[43msocketserver\u001b[49m\u001b[38;5;241;43m.\u001b[39;49m\u001b[43mTCPServer\u001b[49m\u001b[38;5;241;43m.\u001b[39;49m\u001b[43mserver_bind\u001b[49m\u001b[43m(\u001b[49m\u001b[38;5;28;43mself\u001b[39;49m\u001b[43m)\u001b[49m\n\u001b[1;32m    137\u001b[0m     host, port \u001b[38;5;241m=\u001b[39m \u001b[38;5;28mself\u001b[39m\u001b[38;5;241m.\u001b[39mserver_address[:\u001b[38;5;241m2\u001b[39m]\n\u001b[1;32m    138\u001b[0m     \u001b[38;5;28mself\u001b[39m\u001b[38;5;241m.\u001b[39mserver_name \u001b[38;5;241m=\u001b[39m socket\u001b[38;5;241m.\u001b[39mgetfqdn(host)\n",
      "File \u001b[0;32m~/opt/anaconda3/lib/python3.9/socketserver.py:466\u001b[0m, in \u001b[0;36mTCPServer.server_bind\u001b[0;34m(self)\u001b[0m\n\u001b[1;32m    464\u001b[0m \u001b[38;5;28;01mif\u001b[39;00m \u001b[38;5;28mself\u001b[39m\u001b[38;5;241m.\u001b[39mallow_reuse_address:\n\u001b[1;32m    465\u001b[0m     \u001b[38;5;28mself\u001b[39m\u001b[38;5;241m.\u001b[39msocket\u001b[38;5;241m.\u001b[39msetsockopt(socket\u001b[38;5;241m.\u001b[39mSOL_SOCKET, socket\u001b[38;5;241m.\u001b[39mSO_REUSEADDR, \u001b[38;5;241m1\u001b[39m)\n\u001b[0;32m--> 466\u001b[0m \u001b[38;5;28;43mself\u001b[39;49m\u001b[38;5;241;43m.\u001b[39;49m\u001b[43msocket\u001b[49m\u001b[38;5;241;43m.\u001b[39;49m\u001b[43mbind\u001b[49m\u001b[43m(\u001b[49m\u001b[38;5;28;43mself\u001b[39;49m\u001b[38;5;241;43m.\u001b[39;49m\u001b[43mserver_address\u001b[49m\u001b[43m)\u001b[49m\n\u001b[1;32m    467\u001b[0m \u001b[38;5;28mself\u001b[39m\u001b[38;5;241m.\u001b[39mserver_address \u001b[38;5;241m=\u001b[39m \u001b[38;5;28mself\u001b[39m\u001b[38;5;241m.\u001b[39msocket\u001b[38;5;241m.\u001b[39mgetsockname()\n",
      "\u001b[0;31mOSError\u001b[0m: [Errno 48] Address already in use"
     ]
    }
   ],
   "source": [
    "from flask import Flask, render_template\n",
    "app = Flask(__name__)\n",
    "\n",
    "@app.route('/')\n",
    "def qw():\n",
    "    return render_template('qw.html')\n",
    "\n",
    "if  __name__ == '__main__':\n",
    "    app.run()"
   ]
  },
  {
   "cell_type": "code",
   "execution_count": null,
   "id": "a4c37012",
   "metadata": {},
   "outputs": [],
   "source": []
  }
 ],
 "metadata": {
  "kernelspec": {
   "display_name": "Python 3 (ipykernel)",
   "language": "python",
   "name": "python3"
  },
  "language_info": {
   "codemirror_mode": {
    "name": "ipython",
    "version": 3
   },
   "file_extension": ".py",
   "mimetype": "text/x-python",
   "name": "python",
   "nbconvert_exporter": "python",
   "pygments_lexer": "ipython3",
   "version": "3.9.12"
  }
 },
 "nbformat": 4,
 "nbformat_minor": 5
}
