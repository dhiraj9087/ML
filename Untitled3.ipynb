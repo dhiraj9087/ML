{
 "cells": [
  {
   "cell_type": "code",
   "execution_count": 1,
   "id": "21843167",
   "metadata": {},
   "outputs": [],
   "source": [
    "import turtle"
   ]
  },
  {
   "cell_type": "code",
   "execution_count": 1,
   "id": "6b3afa2e",
   "metadata": {},
   "outputs": [
    {
     "ename": "Terminator",
     "evalue": "",
     "output_type": "error",
     "traceback": [
      "\u001b[0;31m---------------------------------------------------------------------------\u001b[0m",
      "\u001b[0;31mTerminator\u001b[0m                                Traceback (most recent call last)",
      "Input \u001b[0;32mIn [1]\u001b[0m, in \u001b[0;36m<cell line: 6>\u001b[0;34m()\u001b[0m\n\u001b[1;32m      5\u001b[0m b\u001b[38;5;241m=\u001b[39m\u001b[38;5;241m200\u001b[39m\n\u001b[1;32m      6\u001b[0m \u001b[38;5;28;01mwhile\u001b[39;00m b\u001b[38;5;241m>\u001b[39m\u001b[38;5;241m0\u001b[39m:\n\u001b[0;32m----> 7\u001b[0m     \u001b[43mleft\u001b[49m\u001b[43m(\u001b[49m\u001b[43mb\u001b[49m\u001b[43m)\u001b[49m\n\u001b[1;32m      8\u001b[0m     forward(b\u001b[38;5;241m*\u001b[39m\u001b[38;5;241m3\u001b[39m)\n\u001b[1;32m      9\u001b[0m     b\u001b[38;5;241m=\u001b[39mb\u001b[38;5;241m-\u001b[39m\u001b[38;5;241m1\u001b[39m\n",
      "File \u001b[0;32m<string>:8\u001b[0m, in \u001b[0;36mleft\u001b[0;34m(angle)\u001b[0m\n",
      "File \u001b[0;32m~/opt/anaconda3/lib/python3.9/turtle.py:1700\u001b[0m, in \u001b[0;36mTNavigator.left\u001b[0;34m(self, angle)\u001b[0m\n\u001b[1;32m   1681\u001b[0m \u001b[38;5;28;01mdef\u001b[39;00m \u001b[38;5;21mleft\u001b[39m(\u001b[38;5;28mself\u001b[39m, angle):\n\u001b[1;32m   1682\u001b[0m     \u001b[38;5;124;03m\"\"\"Turn turtle left by angle units.\u001b[39;00m\n\u001b[1;32m   1683\u001b[0m \n\u001b[1;32m   1684\u001b[0m \u001b[38;5;124;03m    Aliases: left | lt\u001b[39;00m\n\u001b[0;32m   (...)\u001b[0m\n\u001b[1;32m   1698\u001b[0m \u001b[38;5;124;03m    67.0\u001b[39;00m\n\u001b[1;32m   1699\u001b[0m \u001b[38;5;124;03m    \"\"\"\u001b[39;00m\n\u001b[0;32m-> 1700\u001b[0m     \u001b[38;5;28;43mself\u001b[39;49m\u001b[38;5;241;43m.\u001b[39;49m\u001b[43m_rotate\u001b[49m\u001b[43m(\u001b[49m\u001b[43mangle\u001b[49m\u001b[43m)\u001b[49m\n",
      "File \u001b[0;32m~/opt/anaconda3/lib/python3.9/turtle.py:3278\u001b[0m, in \u001b[0;36mRawTurtle._rotate\u001b[0;34m(self, angle)\u001b[0m\n\u001b[1;32m   3276\u001b[0m     \u001b[38;5;28;01mfor\u001b[39;00m _ \u001b[38;5;129;01min\u001b[39;00m \u001b[38;5;28mrange\u001b[39m(steps):\n\u001b[1;32m   3277\u001b[0m         \u001b[38;5;28mself\u001b[39m\u001b[38;5;241m.\u001b[39m_orient \u001b[38;5;241m=\u001b[39m \u001b[38;5;28mself\u001b[39m\u001b[38;5;241m.\u001b[39m_orient\u001b[38;5;241m.\u001b[39mrotate(delta)\n\u001b[0;32m-> 3278\u001b[0m         \u001b[38;5;28;43mself\u001b[39;49m\u001b[38;5;241;43m.\u001b[39;49m\u001b[43m_update\u001b[49m\u001b[43m(\u001b[49m\u001b[43m)\u001b[49m\n\u001b[1;32m   3279\u001b[0m \u001b[38;5;28mself\u001b[39m\u001b[38;5;241m.\u001b[39m_orient \u001b[38;5;241m=\u001b[39m neworient\n\u001b[1;32m   3280\u001b[0m \u001b[38;5;28mself\u001b[39m\u001b[38;5;241m.\u001b[39m_update()\n",
      "File \u001b[0;32m~/opt/anaconda3/lib/python3.9/turtle.py:2661\u001b[0m, in \u001b[0;36mRawTurtle._update\u001b[0;34m(self)\u001b[0m\n\u001b[1;32m   2659\u001b[0m     \u001b[38;5;28;01mreturn\u001b[39;00m\n\u001b[1;32m   2660\u001b[0m \u001b[38;5;28;01melif\u001b[39;00m screen\u001b[38;5;241m.\u001b[39m_tracing \u001b[38;5;241m==\u001b[39m \u001b[38;5;241m1\u001b[39m:\n\u001b[0;32m-> 2661\u001b[0m     \u001b[38;5;28;43mself\u001b[39;49m\u001b[38;5;241;43m.\u001b[39;49m\u001b[43m_update_data\u001b[49m\u001b[43m(\u001b[49m\u001b[43m)\u001b[49m\n\u001b[1;32m   2662\u001b[0m     \u001b[38;5;28mself\u001b[39m\u001b[38;5;241m.\u001b[39m_drawturtle()\n\u001b[1;32m   2663\u001b[0m     screen\u001b[38;5;241m.\u001b[39m_update()                  \u001b[38;5;66;03m# TurtleScreenBase\u001b[39;00m\n",
      "File \u001b[0;32m~/opt/anaconda3/lib/python3.9/turtle.py:2647\u001b[0m, in \u001b[0;36mRawTurtle._update_data\u001b[0;34m(self)\u001b[0m\n\u001b[1;32m   2646\u001b[0m \u001b[38;5;28;01mdef\u001b[39;00m \u001b[38;5;21m_update_data\u001b[39m(\u001b[38;5;28mself\u001b[39m):\n\u001b[0;32m-> 2647\u001b[0m     \u001b[38;5;28;43mself\u001b[39;49m\u001b[38;5;241;43m.\u001b[39;49m\u001b[43mscreen\u001b[49m\u001b[38;5;241;43m.\u001b[39;49m\u001b[43m_incrementudc\u001b[49m\u001b[43m(\u001b[49m\u001b[43m)\u001b[49m\n\u001b[1;32m   2648\u001b[0m     \u001b[38;5;28;01mif\u001b[39;00m \u001b[38;5;28mself\u001b[39m\u001b[38;5;241m.\u001b[39mscreen\u001b[38;5;241m.\u001b[39m_updatecounter \u001b[38;5;241m!=\u001b[39m \u001b[38;5;241m0\u001b[39m:\n\u001b[1;32m   2649\u001b[0m         \u001b[38;5;28;01mreturn\u001b[39;00m\n",
      "File \u001b[0;32m~/opt/anaconda3/lib/python3.9/turtle.py:1293\u001b[0m, in \u001b[0;36mTurtleScreen._incrementudc\u001b[0;34m(self)\u001b[0m\n\u001b[1;32m   1291\u001b[0m \u001b[38;5;28;01mif\u001b[39;00m \u001b[38;5;129;01mnot\u001b[39;00m TurtleScreen\u001b[38;5;241m.\u001b[39m_RUNNING:\n\u001b[1;32m   1292\u001b[0m     TurtleScreen\u001b[38;5;241m.\u001b[39m_RUNNING \u001b[38;5;241m=\u001b[39m \u001b[38;5;28;01mTrue\u001b[39;00m\n\u001b[0;32m-> 1293\u001b[0m     \u001b[38;5;28;01mraise\u001b[39;00m Terminator\n\u001b[1;32m   1294\u001b[0m \u001b[38;5;28;01mif\u001b[39;00m \u001b[38;5;28mself\u001b[39m\u001b[38;5;241m.\u001b[39m_tracing \u001b[38;5;241m>\u001b[39m \u001b[38;5;241m0\u001b[39m:\n\u001b[1;32m   1295\u001b[0m     \u001b[38;5;28mself\u001b[39m\u001b[38;5;241m.\u001b[39m_updatecounter \u001b[38;5;241m+\u001b[39m\u001b[38;5;241m=\u001b[39m \u001b[38;5;241m1\u001b[39m\n",
      "\u001b[0;31mTerminator\u001b[0m: "
     ]
    }
   ],
   "source": [
    "from turtle import *\n",
    "speed(10)\n",
    "color('cyan')\n",
    "bgcolor('black')\n",
    "b=200\n",
    "while b>0:\n",
    "    left(b)\n",
    "    forward(b*3)\n",
    "    b=b-1"
   ]
  },
  {
   "cell_type": "code",
   "execution_count": 3,
   "id": "2d605ed7",
   "metadata": {},
   "outputs": [
    {
     "name": "stdout",
     "output_type": "stream",
     "text": [
      "Collecting langdetect\n",
      "  Downloading langdetect-1.0.9.tar.gz (981 kB)\n",
      "\u001b[K     |████████████████████████████████| 981 kB 3.2 MB/s eta 0:00:01\n",
      "\u001b[?25hRequirement already satisfied: six in ./opt/anaconda3/lib/python3.9/site-packages (from langdetect) (1.16.0)\n",
      "Building wheels for collected packages: langdetect\n",
      "  Building wheel for langdetect (setup.py) ... \u001b[?25ldone\n",
      "\u001b[?25h  Created wheel for langdetect: filename=langdetect-1.0.9-py3-none-any.whl size=993242 sha256=ddb7acf8ed67693328dee529a089d69b1356e532291cb523d437679d67a4f27c\n",
      "  Stored in directory: /Users/dhirajmarathe/Library/Caches/pip/wheels/d1/c1/d9/7e068de779d863bc8f8fc9467d85e25cfe47fa5051fff1a1bb\n",
      "Successfully built langdetect\n",
      "Installing collected packages: langdetect\n",
      "Successfully installed langdetect-1.0.9\n",
      "Note: you may need to restart the kernel to use updated packages.\n"
     ]
    }
   ],
   "source": [
    "pip install langdetect"
   ]
  },
  {
   "cell_type": "code",
   "execution_count": 2,
   "id": "5525cb5e",
   "metadata": {},
   "outputs": [
    {
     "name": "stdout",
     "output_type": "stream",
     "text": [
      "enter any text in any launguage: hello\n",
      "nl\n"
     ]
    }
   ],
   "source": [
    "from langdetect import detect\n",
    "text = input(\"enter any text in any launguage: \")\n",
    "print(detect(text))"
   ]
  },
  {
   "cell_type": "code",
   "execution_count": 4,
   "id": "fbba99f2",
   "metadata": {},
   "outputs": [
    {
     "ename": "ModuleNotFoundError",
     "evalue": "No module named 'pyqrcode'",
     "output_type": "error",
     "traceback": [
      "\u001b[0;31m---------------------------------------------------------------------------\u001b[0m",
      "\u001b[0;31mModuleNotFoundError\u001b[0m                       Traceback (most recent call last)",
      "Input \u001b[0;32mIn [4]\u001b[0m, in \u001b[0;36m<cell line: 1>\u001b[0;34m()\u001b[0m\n\u001b[0;32m----> 1\u001b[0m \u001b[38;5;28;01mimport\u001b[39;00m \u001b[38;5;21;01mpyqrcode\u001b[39;00m\n",
      "\u001b[0;31mModuleNotFoundError\u001b[0m: No module named 'pyqrcode'"
     ]
    }
   ],
   "source": [
    "import pyqrcode"
   ]
  },
  {
   "cell_type": "code",
   "execution_count": 5,
   "id": "3cfeaceb",
   "metadata": {},
   "outputs": [
    {
     "ename": "ModuleNotFoundError",
     "evalue": "No module named 'pyqrcode'",
     "output_type": "error",
     "traceback": [
      "\u001b[0;31m---------------------------------------------------------------------------\u001b[0m",
      "\u001b[0;31mModuleNotFoundError\u001b[0m                       Traceback (most recent call last)",
      "Input \u001b[0;32mIn [5]\u001b[0m, in \u001b[0;36m<cell line: 1>\u001b[0;34m()\u001b[0m\n\u001b[0;32m----> 1\u001b[0m \u001b[38;5;28;01mimport\u001b[39;00m \u001b[38;5;21;01mpyqrcode\u001b[39;00m\n",
      "\u001b[0;31mModuleNotFoundError\u001b[0m: No module named 'pyqrcode'"
     ]
    }
   ],
   "source": [
    "import pyqrcode"
   ]
  },
  {
   "cell_type": "code",
   "execution_count": 6,
   "id": "843829fa",
   "metadata": {},
   "outputs": [
    {
     "name": "stdout",
     "output_type": "stream",
     "text": [
      "Collecting PyQRCode\n",
      "  Downloading PyQRCode-1.2.1.zip (41 kB)\n",
      "\u001b[K     |████████████████████████████████| 41 kB 2.2 MB/s eta 0:00:01\n",
      "\u001b[?25hBuilding wheels for collected packages: PyQRCode\n",
      "  Building wheel for PyQRCode (setup.py) ... \u001b[?25ldone\n",
      "\u001b[?25h  Created wheel for PyQRCode: filename=PyQRCode-1.2.1-py3-none-any.whl size=36247 sha256=1a6eea890bb629b5f9f80179120b5eba14d3bbe09207c7126806459a1324b773\n",
      "  Stored in directory: /Users/dhirajmarathe/Library/Caches/pip/wheels/da/75/c0/38c7f82750de2725429b6b8571dca254249d73f6c882c5d9b1\n",
      "Successfully built PyQRCode\n",
      "Installing collected packages: PyQRCode\n",
      "Successfully installed PyQRCode-1.2.1\n",
      "Note: you may need to restart the kernel to use updated packages.\n"
     ]
    }
   ],
   "source": [
    "pip install PyQRCode"
   ]
  },
  {
   "cell_type": "code",
   "execution_count": 3,
   "id": "bbb33a17",
   "metadata": {},
   "outputs": [],
   "source": [
    "import pyqrcode"
   ]
  },
  {
   "cell_type": "code",
   "execution_count": 21,
   "id": "9d214575",
   "metadata": {},
   "outputs": [
    {
     "name": "stdout",
     "output_type": "stream",
     "text": [
      "\u001b[31mERROR: Could not find a version that satisfies the requirement png (from versions: none)\u001b[0m\n",
      "\u001b[31mERROR: No matching distribution found for png\u001b[0m\n",
      "Note: you may need to restart the kernel to use updated packages.\n"
     ]
    }
   ],
   "source": []
  },
  {
   "cell_type": "code",
   "execution_count": 4,
   "id": "d7781837",
   "metadata": {},
   "outputs": [],
   "source": [
    "from pyqrcode import QRCode\n",
    "s = \"https://www.codechef.com/users/marathedhiraj4\"\n",
    "url = pyqrcode.create(s)\n",
    "url.svg(\"myt.svg\", scale = 8)"
   ]
  },
  {
   "cell_type": "code",
   "execution_count": 11,
   "id": "622997f4",
   "metadata": {},
   "outputs": [
    {
     "data": {
      "text/plain": [
       "True"
      ]
     },
     "execution_count": 11,
     "metadata": {},
     "output_type": "execute_result"
    }
   ],
   "source": [
    "import webbrowser\n",
    "webbrowser.open(\"https://www.google.com/url?sa=t&rct=j&q=&esrc=s&source=web&cd=&ved=2ahUKEwjm7ZnL4O77AhXZyXMBHdqyC44QFnoECAsQAQ&url=https%3A%2F%2Fwww.pornhub.com%2Fcategories&usg=AOvVaw2jzrYz-1nBHmP3rF_tCXTe\")"
   ]
  },
  {
   "cell_type": "code",
   "execution_count": 12,
   "id": "27b9a8ed",
   "metadata": {},
   "outputs": [
    {
     "ename": "NameError",
     "evalue": "name 'phrase' is not defined",
     "output_type": "error",
     "traceback": [
      "\u001b[0;31m---------------------------------------------------------------------------\u001b[0m",
      "\u001b[0;31mNameError\u001b[0m                                 Traceback (most recent call last)",
      "Input \u001b[0;32mIn [12]\u001b[0m, in \u001b[0;36m<cell line: 1>\u001b[0;34m()\u001b[0m\n\u001b[0;32m----> 1\u001b[0m \u001b[43mphrase\u001b[49m\u001b[38;5;241m.\u001b[39mfind(phrase[::\u001b[38;5;241m-\u001b[39m\u001b[38;5;241m1\u001b[39m])\n",
      "\u001b[0;31mNameError\u001b[0m: name 'phrase' is not defined"
     ]
    }
   ],
   "source": [
    "phrase.find(phrase[::-1])"
   ]
  },
  {
   "cell_type": "code",
   "execution_count": 13,
   "id": "ba92bb21",
   "metadata": {},
   "outputs": [
    {
     "ename": "ModuleNotFoundError",
     "evalue": "No module named 'phrase'",
     "output_type": "error",
     "traceback": [
      "\u001b[0;31m---------------------------------------------------------------------------\u001b[0m",
      "\u001b[0;31mModuleNotFoundError\u001b[0m                       Traceback (most recent call last)",
      "Input \u001b[0;32mIn [13]\u001b[0m, in \u001b[0;36m<cell line: 1>\u001b[0;34m()\u001b[0m\n\u001b[0;32m----> 1\u001b[0m \u001b[38;5;28;01mimport\u001b[39;00m \u001b[38;5;21;01mphrase\u001b[39;00m\n",
      "\u001b[0;31mModuleNotFoundError\u001b[0m: No module named 'phrase'"
     ]
    }
   ],
   "source": [
    "import phrase"
   ]
  },
  {
   "cell_type": "code",
   "execution_count": 14,
   "id": "03052e03",
   "metadata": {},
   "outputs": [
    {
     "ename": "NameError",
     "evalue": "name 'radar' is not defined",
     "output_type": "error",
     "traceback": [
      "\u001b[0;31m---------------------------------------------------------------------------\u001b[0m",
      "\u001b[0;31mNameError\u001b[0m                                 Traceback (most recent call last)",
      "Input \u001b[0;32mIn [14]\u001b[0m, in \u001b[0;36m<cell line: 1>\u001b[0;34m()\u001b[0m\n\u001b[0;32m----> 1\u001b[0m phrase \u001b[38;5;241m=\u001b[39m \u001b[43mradar\u001b[49m\n\u001b[1;32m      2\u001b[0m phrase\u001b[38;5;241m.\u001b[39mfind(phrase[::\u001b[38;5;241m-\u001b[39m\u001b[38;5;241m1\u001b[39m])\n",
      "\u001b[0;31mNameError\u001b[0m: name 'radar' is not defined"
     ]
    }
   ],
   "source": [
    "phrase = radar\n",
    "phrase.find(phrase[::-1])"
   ]
  },
  {
   "cell_type": "code",
   "execution_count": 3,
   "id": "269a9b24",
   "metadata": {},
   "outputs": [
    {
     "ename": "Terminator",
     "evalue": "",
     "output_type": "error",
     "traceback": [
      "\u001b[0;31m---------------------------------------------------------------------------\u001b[0m",
      "\u001b[0;31mTerminator\u001b[0m                                Traceback (most recent call last)",
      "Input \u001b[0;32mIn [3]\u001b[0m, in \u001b[0;36m<cell line: 299>\u001b[0;34m()\u001b[0m\n\u001b[1;32m    300\u001b[0m pensize(\u001b[38;5;241m3\u001b[39m)\n\u001b[1;32m    301\u001b[0m speed(\u001b[38;5;241m9\u001b[39m)\n\u001b[0;32m--> 302\u001b[0m \u001b[43mDoraemon\u001b[49m\u001b[43m(\u001b[49m\u001b[43m)\u001b[49m\n\u001b[1;32m    303\u001b[0m my_goto(\u001b[38;5;241m100\u001b[39m, \u001b[38;5;241m-\u001b[39m\u001b[38;5;241m300\u001b[39m)\n\u001b[1;32m    304\u001b[0m write(\u001b[38;5;124m'\u001b[39m\u001b[38;5;124m@python.for.fun\u001b[39m\u001b[38;5;124m'\u001b[39m, font\u001b[38;5;241m=\u001b[39m(\u001b[38;5;124m\"\u001b[39m\u001b[38;5;124mBradley Hand ITC\u001b[39m\u001b[38;5;124m\"\u001b[39m, \u001b[38;5;241m30\u001b[39m, \u001b[38;5;124m\"\u001b[39m\u001b[38;5;124mbold\u001b[39m\u001b[38;5;124m\"\u001b[39m))\n",
      "Input \u001b[0;32mIn [3]\u001b[0m, in \u001b[0;36mDoraemon\u001b[0;34m()\u001b[0m\n\u001b[1;32m    193\u001b[0m \u001b[38;5;66;03m# print(pos())\u001b[39;00m\n\u001b[1;32m    194\u001b[0m seth(\u001b[38;5;241m100\u001b[39m)\n\u001b[0;32m--> 195\u001b[0m \u001b[43mcircle\u001b[49m\u001b[43m(\u001b[49m\u001b[38;5;241;43m-\u001b[39;49m\u001b[38;5;241;43m1000\u001b[39;49m\u001b[43m,\u001b[49m\u001b[43m \u001b[49m\u001b[38;5;241;43m9\u001b[39;49m\u001b[43m)\u001b[49m\n\u001b[1;32m    197\u001b[0m seth(\u001b[38;5;241m-\u001b[39m\u001b[38;5;241m86\u001b[39m)\n\u001b[1;32m    198\u001b[0m circle(\u001b[38;5;241m1000\u001b[39m, \u001b[38;5;241m2\u001b[39m)\n",
      "File \u001b[0;32m<string>:5\u001b[0m, in \u001b[0;36mcircle\u001b[0;34m(radius, extent, steps)\u001b[0m\n",
      "\u001b[0;31mTerminator\u001b[0m: "
     ]
    }
   ],
   "source": [
    "from turtle import *\n",
    "import turtle\n",
    "wn = turtle.Screen()\n",
    "wn.setup(width=1000, height=800)\n",
    "\n",
    "def my_goto(x, y):\n",
    "    penup()\n",
    "    goto(x, y)\n",
    "    pendown()\n",
    "\n",
    "\n",
    "def eyes():\n",
    "    fillcolor(\"#ffffff\")\n",
    "    begin_fill()\n",
    "\n",
    "    tracer(False)\n",
    "    a = 2.5\n",
    "    for i in range(120):\n",
    "        if 0 <= i < 30 or 60 <= i < 90:\n",
    "            a -= 0.05\n",
    "            lt(3)\n",
    "            fd(a)\n",
    "        else:\n",
    "            a += 0.05\n",
    "            lt(3)\n",
    "            fd(a)\n",
    "    tracer(True)\n",
    "    end_fill()\n",
    "\n",
    "\n",
    "\n",
    "def beard():\n",
    "    my_goto(-32, 135)\n",
    "    seth(165)\n",
    "    fd(60)\n",
    "\n",
    "    my_goto(-32, 125)\n",
    "    seth(180)\n",
    "    fd(60)\n",
    "\n",
    "    my_goto(-32, 115)\n",
    "    seth(193)\n",
    "    fd(60)\n",
    "\n",
    "    my_goto(37, 135)\n",
    "    seth(15)\n",
    "    fd(60)\n",
    "\n",
    "    my_goto(37, 125)\n",
    "    seth(0)\n",
    "    fd(60)\n",
    "\n",
    "    my_goto(37, 115)\n",
    "    seth(-13)\n",
    "    fd(60)\n",
    "\n",
    "\n",
    "def mouth():\n",
    "    my_goto(5, 148)\n",
    "    seth(270)\n",
    "    fd(100)\n",
    "    seth(0)\n",
    "    circle(120, 50)\n",
    "    seth(230)\n",
    "    circle(-120, 100)\n",
    "\n",
    "\n",
    "def scarf():\n",
    "    fillcolor('#e70010')\n",
    "    begin_fill()\n",
    "    seth(0)\n",
    "    fd(200)\n",
    "    circle(-5, 90)\n",
    "    fd(10)\n",
    "    circle(-5, 90)\n",
    "    fd(207)\n",
    "    circle(-5, 90)\n",
    "    fd(10)\n",
    "    circle(-5, 90)\n",
    "    end_fill()\n",
    "\n",
    "\n",
    "def nose():\n",
    "    my_goto(-10, 158)\n",
    "    seth(315)\n",
    "    fillcolor('#e70010')\n",
    "    begin_fill()\n",
    "    circle(20)\n",
    "    end_fill()\n",
    "\n",
    "\n",
    "def black_eyes():\n",
    "    seth(0)\n",
    "    my_goto(-20, 195)\n",
    "    fillcolor('#000000')\n",
    "    begin_fill()\n",
    "    circle(13)\n",
    "    end_fill()\n",
    "\n",
    "    pensize(6)\n",
    "    my_goto(20, 205)\n",
    "    seth(75)\n",
    "    circle(-10, 150)\n",
    "    pensize(3)\n",
    "\n",
    "    my_goto(-17, 200)\n",
    "    seth(0)\n",
    "    fillcolor('#ffffff')\n",
    "    begin_fill()\n",
    "    circle(5)\n",
    "    end_fill()\n",
    "    my_goto(0, 0)\n",
    "\n",
    "\n",
    "\n",
    "\n",
    "def face():\n",
    "\n",
    "    fd(183)\n",
    "    lt(45)\n",
    "    fillcolor('#ffffff')\n",
    "    begin_fill()\n",
    "    circle(120, 100)\n",
    "    seth(180)\n",
    "    # print(pos())\n",
    "    fd(121)\n",
    "    pendown()\n",
    "    seth(215)\n",
    "    circle(120, 100)\n",
    "    end_fill()\n",
    "    my_goto(63.56,218.24)\n",
    "    seth(90)\n",
    "    eyes()\n",
    "    seth(180)\n",
    "    penup()\n",
    "    fd(60)\n",
    "    pendown()\n",
    "    seth(90)\n",
    "    eyes()\n",
    "    penup()\n",
    "    seth(180)\n",
    "    fd(64)\n",
    "\n",
    "\n",
    "def head():\n",
    "    penup()\n",
    "    circle(150, 40)\n",
    "    pendown()\n",
    "    fillcolor('#00a0de')\n",
    "    begin_fill()\n",
    "    circle(150, 280)\n",
    "    end_fill()\n",
    "\n",
    "\n",
    "def Doraemon():\n",
    "    head()\n",
    "    scarf()\n",
    "    face()\n",
    "    black_eyes()\n",
    "    nose()\n",
    "    mouth()\n",
    "    beard()\n",
    "    my_goto(0, 0)\n",
    "    seth(0)\n",
    "    penup()\n",
    "    circle(150, 50)\n",
    "    pendown()\n",
    "    seth(30)\n",
    "    fd(40)\n",
    "    seth(70)\n",
    "    circle(-30, 270)\n",
    "\n",
    "\n",
    "    fillcolor('#00a0de')\n",
    "    begin_fill()\n",
    "\n",
    "    seth(230)\n",
    "    fd(80)\n",
    "    seth(90)\n",
    "    circle(1000, 1)\n",
    "    seth(-89)\n",
    "    circle(-1000, 10)\n",
    "\n",
    "    # print(pos())\n",
    "\n",
    "    seth(180)\n",
    "    fd(70)\n",
    "    seth(90)\n",
    "    circle(30, 180)\n",
    "    seth(180)\n",
    "    fd(70)\n",
    "\n",
    "    # print(pos())\n",
    "    seth(100)\n",
    "    circle(-1000, 9)\n",
    "\n",
    "    seth(-86)\n",
    "    circle(1000, 2)\n",
    "    seth(230)\n",
    "    fd(40)\n",
    "\n",
    "    # print(pos())\n",
    "\n",
    "\n",
    "    circle(-30, 230)\n",
    "    seth(45)\n",
    "    fd(81)\n",
    "    seth(0)\n",
    "    fd(203)\n",
    "    circle(5, 90)\n",
    "    fd(10)\n",
    "    circle(5, 90)\n",
    "    fd(7)\n",
    "    seth(40)\n",
    "    circle(150, 10)\n",
    "    seth(30)\n",
    "    fd(40)\n",
    "    end_fill()\n",
    "\n",
    "    seth(70)\n",
    "    fillcolor('#ffffff')\n",
    "    begin_fill()\n",
    "    circle(-30)\n",
    "    end_fill()\n",
    "\n",
    "    my_goto(103.74, -182.59)\n",
    "    seth(0)\n",
    "    fillcolor('#ffffff')\n",
    "    begin_fill()\n",
    "    fd(15)\n",
    "    circle(-15, 180)\n",
    "    fd(90)\n",
    "    circle(-15, 180)\n",
    "    fd(10)\n",
    "    end_fill()\n",
    "\n",
    "    my_goto(-96.26, -182.59)\n",
    "    seth(180)\n",
    "    fillcolor('#ffffff')\n",
    "    begin_fill()\n",
    "    fd(15)\n",
    "    circle(15, 180)\n",
    "    fd(90)\n",
    "    circle(15, 180)\n",
    "    fd(10)\n",
    "    end_fill()\n",
    "\n",
    "    my_goto(-133.97, -91.81)\n",
    "    seth(50)\n",
    "    fillcolor('#ffffff')\n",
    "    begin_fill()\n",
    "    circle(30)\n",
    "    end_fill()\n",
    "\n",
    "    my_goto(-103.42, 15.09)\n",
    "    seth(0)\n",
    "    fd(38)\n",
    "    seth(230)\n",
    "    begin_fill()\n",
    "    circle(90, 260)\n",
    "    end_fill()\n",
    "\n",
    "    my_goto(5, -40)\n",
    "    seth(0)\n",
    "    fd(70)\n",
    "    seth(-90)\n",
    "    circle(-70, 180)\n",
    "    seth(0)\n",
    "    fd(70)\n",
    "\n",
    "    my_goto(-103.42, 15.09)\n",
    "    fd(90)\n",
    "    seth(70)\n",
    "    fillcolor('#ffd200')\n",
    "    # print(pos())\n",
    "    begin_fill()\n",
    "    circle(-20)\n",
    "    end_fill()\n",
    "    seth(170)\n",
    "    fillcolor('#ffd200')\n",
    "    begin_fill()\n",
    "    circle(-2, 180)\n",
    "    seth(10)\n",
    "    circle(-100, 22)\n",
    "    circle(-2, 180)\n",
    "    seth(180-10)\n",
    "    circle(100, 22)\n",
    "    end_fill()\n",
    "    goto(-13.42, 15.09)\n",
    "    seth(250)\n",
    "    circle(20, 110)\n",
    "    seth(90)\n",
    "    fd(15)\n",
    "    dot(10)\n",
    "    my_goto(0, -150)\n",
    "\n",
    "\n",
    "\n",
    "if __name__ == '__main__':\n",
    "    pensize(3)\n",
    "    speed(9)\n",
    "    Doraemon()\n",
    "    my_goto(100, -300)\n",
    "    write('@python.for.fun', font=(\"Bradley Hand ITC\", 30, \"bold\"))\n",
    "    mainloop()"
   ]
  },
  {
   "cell_type": "code",
   "execution_count": 4,
   "id": "ee85752a",
   "metadata": {},
   "outputs": [],
   "source": [
    "#pip install sketchpy\n",
    "from sketchpy import library as lib\n",
    "obj = lib.rdj()\n",
    "obj.draw()"
   ]
  },
  {
   "cell_type": "code",
   "execution_count": null,
   "id": "01a730bb",
   "metadata": {},
   "outputs": [],
   "source": []
  }
 ],
 "metadata": {
  "kernelspec": {
   "display_name": "Python 3 (ipykernel)",
   "language": "python",
   "name": "python3"
  },
  "language_info": {
   "codemirror_mode": {
    "name": "ipython",
    "version": 3
   },
   "file_extension": ".py",
   "mimetype": "text/x-python",
   "name": "python",
   "nbconvert_exporter": "python",
   "pygments_lexer": "ipython3",
   "version": "3.9.12"
  }
 },
 "nbformat": 4,
 "nbformat_minor": 5
}
