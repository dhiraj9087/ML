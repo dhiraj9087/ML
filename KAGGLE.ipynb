{
 "cells": [
  {
   "cell_type": "code",
   "execution_count": 1,
   "id": "59d802f9",
   "metadata": {},
   "outputs": [],
   "source": [
    "import pandas as pd"
   ]
  },
  {
   "cell_type": "code",
   "execution_count": 2,
   "id": "96ab3356",
   "metadata": {},
   "outputs": [],
   "source": [
    "df=pd.read_csv('gender_submission.csv')"
   ]
  },
  {
   "cell_type": "code",
   "execution_count": 3,
   "id": "d5eeeb38",
   "metadata": {},
   "outputs": [
    {
     "name": "stdout",
     "output_type": "stream",
     "text": [
      "<class 'pandas.core.frame.DataFrame'>\n",
      "RangeIndex: 418 entries, 0 to 417\n",
      "Data columns (total 2 columns):\n",
      " #   Column       Non-Null Count  Dtype\n",
      "---  ------       --------------  -----\n",
      " 0   PassengerId  418 non-null    int64\n",
      " 1   Survived     418 non-null    int64\n",
      "dtypes: int64(2)\n",
      "memory usage: 6.7 KB\n"
     ]
    }
   ],
   "source": [
    "df.info()"
   ]
  },
  {
   "cell_type": "code",
   "execution_count": 4,
   "id": "24566c68",
   "metadata": {},
   "outputs": [
    {
     "data": {
      "text/plain": [
       "'     PassengerId  Survived\\n0            892         0\\n1            893         1\\n2            894         0\\n3            895         0\\n4            896         1\\n5            897         0\\n6            898         1\\n7            899         0\\n8            900         1\\n9            901         0\\n10           902         0\\n11           903         0\\n12           904         1\\n13           905         0\\n14           906         1\\n15           907         1\\n16           908         0\\n17           909         0\\n18           910         1\\n19           911         1\\n20           912         0\\n21           913         0\\n22           914         1\\n23           915         0\\n24           916         1\\n25           917         0\\n26           918         1\\n27           919         0\\n28           920         0\\n29           921         0\\n30           922         0\\n31           923         0\\n32           924         1\\n33           925         1\\n34           926         0\\n35           927         0\\n36           928         1\\n37           929         1\\n38           930         0\\n39           931         0\\n40           932         0\\n41           933         0\\n42           934         0\\n43           935         1\\n44           936         1\\n45           937         0\\n46           938         0\\n47           939         0\\n48           940         1\\n49           941         1\\n50           942         0\\n51           943         0\\n52           944         1\\n53           945         1\\n54           946         0\\n55           947         0\\n56           948         0\\n57           949         0\\n58           950         0\\n59           951         1\\n60           952         0\\n61           953         0\\n62           954         0\\n63           955         1\\n64           956         0\\n65           957         1\\n66           958         1\\n67           959         0\\n68           960         0\\n69           961         1\\n70           962         1\\n71           963         0\\n72           964         1\\n73           965         0\\n74           966         1\\n75           967         0\\n76           968         0\\n77           969         1\\n78           970         0\\n79           971         1\\n80           972         0\\n81           973         0\\n82           974         0\\n83           975         0\\n84           976         0\\n85           977         0\\n86           978         1\\n87           979         1\\n88           980         1\\n89           981         0\\n90           982         1\\n91           983         0\\n92           984         1\\n93           985         0\\n94           986         0\\n95           987         0\\n96           988         1\\n97           989         0\\n98           990         1\\n99           991         0\\n100          992         1\\n101          993         0\\n102          994         0\\n103          995         0\\n104          996         1\\n105          997         0\\n106          998         0\\n107          999         0\\n108         1000         0\\n109         1001         0\\n110         1002         0\\n111         1003         1\\n112         1004         1\\n113         1005         1\\n114         1006         1\\n115         1007         0\\n116         1008         0\\n117         1009         1\\n118         1010         0\\n119         1011         1\\n120         1012         1\\n121         1013         0\\n122         1014         1\\n123         1015         0\\n124         1016         0\\n125         1017         1\\n126         1018         0\\n127         1019         1\\n128         1020         0\\n129         1021         0\\n130         1022         0\\n131         1023         0\\n132         1024         1\\n133         1025         0\\n134         1026         0\\n135         1027         0\\n136         1028         0\\n137         1029         0\\n138         1030         1\\n139         1031         0\\n140         1032         1\\n141         1033         1\\n142         1034         0\\n143         1035         0\\n144         1036         0\\n145         1037         0\\n146         1038         0\\n147         1039         0\\n148         1040         0\\n149         1041         0\\n150         1042         1\\n151         1043         0\\n152         1044         0\\n153         1045         1\\n154         1046         0\\n155         1047         0\\n156         1048         1\\n157         1049         1\\n158         1050         0\\n159         1051         1\\n160         1052         1\\n161         1053         0\\n162         1054         1\\n163         1055         0\\n164         1056         0\\n165         1057         1\\n166         1058         0\\n167         1059         0\\n168         1060         1\\n169         1061         1\\n170         1062         0\\n171         1063         0\\n172         1064         0\\n173         1065         0\\n174         1066         0\\n175         1067         1\\n176         1068         1\\n177         1069         0\\n178         1070         1\\n179         1071         1\\n180         1072         0\\n181         1073         0\\n182         1074         1\\n183         1075         0\\n184         1076         1\\n185         1077         0\\n186         1078         1\\n187         1079         0\\n188         1080         1\\n189         1081         0\\n190         1082         0\\n191         1083         0\\n192         1084         0\\n193         1085         0\\n194         1086         0\\n195         1087         0\\n196         1088         0\\n197         1089         1\\n198         1090         0\\n199         1091         1\\n200         1092         1\\n201         1093         0\\n202         1094         0\\n203         1095         1\\n204         1096         0\\n205         1097         0\\n206         1098         1\\n207         1099         0\\n208         1100         1\\n209         1101         0\\n210         1102         0\\n211         1103         0\\n212         1104         0\\n213         1105         1\\n214         1106         1\\n215         1107         0\\n216         1108         1\\n217         1109         0\\n218         1110         1\\n219         1111         0\\n220         1112         1\\n221         1113         0\\n222         1114         1\\n223         1115         0\\n224         1116         1\\n225         1117         1\\n226         1118         0\\n227         1119         1\\n228         1120         0\\n229         1121         0\\n230         1122         0\\n231         1123         1\\n232         1124         0\\n233         1125         0\\n234         1126         0\\n235         1127         0\\n236         1128         0\\n237         1129         0\\n238         1130         1\\n239         1131         1\\n240         1132         1\\n241         1133         1\\n242         1134         0\\n243         1135         0\\n244         1136         0\\n245         1137         0\\n246         1138         1\\n247         1139         0\\n248         1140         1\\n249         1141         1\\n250         1142         1\\n251         1143         0\\n252         1144         0\\n253         1145         0\\n254         1146         0\\n255         1147         0\\n256         1148         0\\n257         1149         0\\n258         1150         1\\n259         1151         0\\n260         1152         0\\n261         1153         0\\n262         1154         1\\n263         1155         1\\n264         1156         0\\n265         1157         0\\n266         1158         0\\n267         1159         0\\n268         1160         1\\n269         1161         0\\n270         1162         0\\n271         1163         0\\n272         1164         1\\n273         1165         1\\n274         1166         0\\n275         1167         1\\n276         1168         0\\n277         1169         0\\n278         1170         0\\n279         1171         0\\n280         1172         1\\n281         1173         0\\n282         1174         1\\n283         1175         1\\n284         1176         1\\n285         1177         0\\n286         1178         0\\n287         1179         0\\n288         1180         0\\n289         1181         0\\n290         1182         0\\n291         1183         1\\n292         1184         0\\n293         1185         0\\n294         1186         0\\n295         1187         0\\n296         1188         1\\n297         1189         0\\n298         1190         0\\n299         1191         0\\n300         1192         0\\n301         1193         0\\n302         1194         0\\n303         1195         0\\n304         1196         1\\n305         1197         1\\n306         1198         0\\n307         1199         0\\n308         1200         0\\n309         1201         1\\n310         1202         0\\n311         1203         0\\n312         1204         0\\n313         1205         1\\n314         1206         1\\n315         1207         1\\n316         1208         0\\n317         1209         0\\n318         1210         0\\n319         1211         0\\n320         1212         0\\n321         1213         0\\n322         1214         0\\n323         1215         0\\n324         1216         1\\n325         1217         0\\n326         1218         1\\n327         1219         0\\n328         1220         0\\n329         1221         0\\n330         1222         1\\n331         1223         0\\n332         1224         0\\n333         1225         1\\n334         1226         0\\n335         1227         0\\n336         1228         0\\n337         1229         0\\n338         1230         0\\n339         1231         0\\n340         1232         0\\n341         1233         0\\n342         1234         0\\n343         1235         1\\n344         1236         0\\n345         1237         1\\n346         1238         0\\n347         1239         1\\n348         1240         0\\n349         1241         1\\n350         1242         1\\n351         1243         0\\n352         1244         0\\n353         1245         0\\n354         1246         1\\n355         1247         0\\n356         1248         1\\n357         1249         0\\n358         1250         0\\n359         1251         1\\n360         1252         0\\n361         1253         1\\n362         1254         1\\n363         1255         0\\n364         1256         1\\n365         1257         1\\n366         1258         0\\n367         1259         1\\n368         1260         1\\n369         1261         0\\n370         1262         0\\n371         1263         1\\n372         1264         0\\n373         1265         0\\n374         1266         1\\n375         1267         1\\n376         1268         1\\n377         1269         0\\n378         1270         0\\n379         1271         0\\n380         1272         0\\n381         1273         0\\n382         1274         1\\n383         1275         1\\n384         1276         0\\n385         1277         1\\n386         1278         0\\n387         1279         0\\n388         1280         0\\n389         1281         0\\n390         1282         0\\n391         1283         1\\n392         1284         0\\n393         1285         0\\n394         1286         0\\n395         1287         1\\n396         1288         0\\n397         1289         1\\n398         1290         0\\n399         1291         0\\n400         1292         1\\n401         1293         0\\n402         1294         1\\n403         1295         0\\n404         1296         0\\n405         1297         0\\n406         1298         0\\n407         1299         0\\n408         1300         1\\n409         1301         1\\n410         1302         1\\n411         1303         1\\n412         1304         1\\n413         1305         0\\n414         1306         1\\n415         1307         0\\n416         1308         0\\n417         1309         0'"
      ]
     },
     "execution_count": 4,
     "metadata": {},
     "output_type": "execute_result"
    }
   ],
   "source": [
    "df.to_string()"
   ]
  },
  {
   "cell_type": "code",
   "execution_count": 5,
   "id": "adc21d0b",
   "metadata": {},
   "outputs": [
    {
     "data": {
      "text/html": [
       "<div>\n",
       "<style scoped>\n",
       "    .dataframe tbody tr th:only-of-type {\n",
       "        vertical-align: middle;\n",
       "    }\n",
       "\n",
       "    .dataframe tbody tr th {\n",
       "        vertical-align: top;\n",
       "    }\n",
       "\n",
       "    .dataframe thead th {\n",
       "        text-align: right;\n",
       "    }\n",
       "</style>\n",
       "<table border=\"1\" class=\"dataframe\">\n",
       "  <thead>\n",
       "    <tr style=\"text-align: right;\">\n",
       "      <th></th>\n",
       "      <th>PassengerId</th>\n",
       "      <th>Survived</th>\n",
       "    </tr>\n",
       "  </thead>\n",
       "  <tbody>\n",
       "    <tr>\n",
       "      <th>0</th>\n",
       "      <td>892</td>\n",
       "      <td>0</td>\n",
       "    </tr>\n",
       "    <tr>\n",
       "      <th>1</th>\n",
       "      <td>893</td>\n",
       "      <td>1</td>\n",
       "    </tr>\n",
       "    <tr>\n",
       "      <th>2</th>\n",
       "      <td>894</td>\n",
       "      <td>0</td>\n",
       "    </tr>\n",
       "    <tr>\n",
       "      <th>3</th>\n",
       "      <td>895</td>\n",
       "      <td>0</td>\n",
       "    </tr>\n",
       "    <tr>\n",
       "      <th>4</th>\n",
       "      <td>896</td>\n",
       "      <td>1</td>\n",
       "    </tr>\n",
       "  </tbody>\n",
       "</table>\n",
       "</div>"
      ],
      "text/plain": [
       "   PassengerId  Survived\n",
       "0          892         0\n",
       "1          893         1\n",
       "2          894         0\n",
       "3          895         0\n",
       "4          896         1"
      ]
     },
     "execution_count": 5,
     "metadata": {},
     "output_type": "execute_result"
    }
   ],
   "source": [
    "df.head()"
   ]
  },
  {
   "cell_type": "code",
   "execution_count": 9,
   "id": "baff19d0",
   "metadata": {},
   "outputs": [],
   "source": [
    "d2=pd.read_csv('train.csv')"
   ]
  },
  {
   "cell_type": "code",
   "execution_count": 7,
   "id": "332b28ba",
   "metadata": {},
   "outputs": [
    {
     "data": {
      "text/html": [
       "<div>\n",
       "<style scoped>\n",
       "    .dataframe tbody tr th:only-of-type {\n",
       "        vertical-align: middle;\n",
       "    }\n",
       "\n",
       "    .dataframe tbody tr th {\n",
       "        vertical-align: top;\n",
       "    }\n",
       "\n",
       "    .dataframe thead th {\n",
       "        text-align: right;\n",
       "    }\n",
       "</style>\n",
       "<table border=\"1\" class=\"dataframe\">\n",
       "  <thead>\n",
       "    <tr style=\"text-align: right;\">\n",
       "      <th></th>\n",
       "      <th>PassengerId</th>\n",
       "      <th>Survived</th>\n",
       "      <th>Pclass</th>\n",
       "      <th>Name</th>\n",
       "      <th>Sex</th>\n",
       "      <th>Age</th>\n",
       "      <th>SibSp</th>\n",
       "      <th>Parch</th>\n",
       "      <th>Ticket</th>\n",
       "      <th>Fare</th>\n",
       "      <th>Cabin</th>\n",
       "      <th>Embarked</th>\n",
       "    </tr>\n",
       "  </thead>\n",
       "  <tbody>\n",
       "    <tr>\n",
       "      <th>0</th>\n",
       "      <td>1</td>\n",
       "      <td>0</td>\n",
       "      <td>3</td>\n",
       "      <td>Braund, Mr. Owen Harris</td>\n",
       "      <td>male</td>\n",
       "      <td>22.0</td>\n",
       "      <td>1</td>\n",
       "      <td>0</td>\n",
       "      <td>A/5 21171</td>\n",
       "      <td>7.2500</td>\n",
       "      <td>NaN</td>\n",
       "      <td>S</td>\n",
       "    </tr>\n",
       "    <tr>\n",
       "      <th>1</th>\n",
       "      <td>2</td>\n",
       "      <td>1</td>\n",
       "      <td>1</td>\n",
       "      <td>Cumings, Mrs. John Bradley (Florence Briggs Th...</td>\n",
       "      <td>female</td>\n",
       "      <td>38.0</td>\n",
       "      <td>1</td>\n",
       "      <td>0</td>\n",
       "      <td>PC 17599</td>\n",
       "      <td>71.2833</td>\n",
       "      <td>C85</td>\n",
       "      <td>C</td>\n",
       "    </tr>\n",
       "    <tr>\n",
       "      <th>2</th>\n",
       "      <td>3</td>\n",
       "      <td>1</td>\n",
       "      <td>3</td>\n",
       "      <td>Heikkinen, Miss. Laina</td>\n",
       "      <td>female</td>\n",
       "      <td>26.0</td>\n",
       "      <td>0</td>\n",
       "      <td>0</td>\n",
       "      <td>STON/O2. 3101282</td>\n",
       "      <td>7.9250</td>\n",
       "      <td>NaN</td>\n",
       "      <td>S</td>\n",
       "    </tr>\n",
       "    <tr>\n",
       "      <th>3</th>\n",
       "      <td>4</td>\n",
       "      <td>1</td>\n",
       "      <td>1</td>\n",
       "      <td>Futrelle, Mrs. Jacques Heath (Lily May Peel)</td>\n",
       "      <td>female</td>\n",
       "      <td>35.0</td>\n",
       "      <td>1</td>\n",
       "      <td>0</td>\n",
       "      <td>113803</td>\n",
       "      <td>53.1000</td>\n",
       "      <td>C123</td>\n",
       "      <td>S</td>\n",
       "    </tr>\n",
       "    <tr>\n",
       "      <th>4</th>\n",
       "      <td>5</td>\n",
       "      <td>0</td>\n",
       "      <td>3</td>\n",
       "      <td>Allen, Mr. William Henry</td>\n",
       "      <td>male</td>\n",
       "      <td>35.0</td>\n",
       "      <td>0</td>\n",
       "      <td>0</td>\n",
       "      <td>373450</td>\n",
       "      <td>8.0500</td>\n",
       "      <td>NaN</td>\n",
       "      <td>S</td>\n",
       "    </tr>\n",
       "  </tbody>\n",
       "</table>\n",
       "</div>"
      ],
      "text/plain": [
       "   PassengerId  Survived  Pclass  \\\n",
       "0            1         0       3   \n",
       "1            2         1       1   \n",
       "2            3         1       3   \n",
       "3            4         1       1   \n",
       "4            5         0       3   \n",
       "\n",
       "                                                Name     Sex   Age  SibSp  \\\n",
       "0                            Braund, Mr. Owen Harris    male  22.0      1   \n",
       "1  Cumings, Mrs. John Bradley (Florence Briggs Th...  female  38.0      1   \n",
       "2                             Heikkinen, Miss. Laina  female  26.0      0   \n",
       "3       Futrelle, Mrs. Jacques Heath (Lily May Peel)  female  35.0      1   \n",
       "4                           Allen, Mr. William Henry    male  35.0      0   \n",
       "\n",
       "   Parch            Ticket     Fare Cabin Embarked  \n",
       "0      0         A/5 21171   7.2500   NaN        S  \n",
       "1      0          PC 17599  71.2833   C85        C  \n",
       "2      0  STON/O2. 3101282   7.9250   NaN        S  \n",
       "3      0            113803  53.1000  C123        S  \n",
       "4      0            373450   8.0500   NaN        S  "
      ]
     },
     "execution_count": 7,
     "metadata": {},
     "output_type": "execute_result"
    }
   ],
   "source": [
    "d2.head()"
   ]
  },
  {
   "cell_type": "code",
   "execution_count": 10,
   "id": "e22ba820",
   "metadata": {},
   "outputs": [],
   "source": [
    "d3=pd.read_csv('test.csv')"
   ]
  },
  {
   "cell_type": "code",
   "execution_count": 11,
   "id": "23337d8e",
   "metadata": {},
   "outputs": [
    {
     "data": {
      "text/html": [
       "<div>\n",
       "<style scoped>\n",
       "    .dataframe tbody tr th:only-of-type {\n",
       "        vertical-align: middle;\n",
       "    }\n",
       "\n",
       "    .dataframe tbody tr th {\n",
       "        vertical-align: top;\n",
       "    }\n",
       "\n",
       "    .dataframe thead th {\n",
       "        text-align: right;\n",
       "    }\n",
       "</style>\n",
       "<table border=\"1\" class=\"dataframe\">\n",
       "  <thead>\n",
       "    <tr style=\"text-align: right;\">\n",
       "      <th></th>\n",
       "      <th>PassengerId</th>\n",
       "      <th>Pclass</th>\n",
       "      <th>Name</th>\n",
       "      <th>Sex</th>\n",
       "      <th>Age</th>\n",
       "      <th>SibSp</th>\n",
       "      <th>Parch</th>\n",
       "      <th>Ticket</th>\n",
       "      <th>Fare</th>\n",
       "      <th>Cabin</th>\n",
       "      <th>Embarked</th>\n",
       "    </tr>\n",
       "  </thead>\n",
       "  <tbody>\n",
       "    <tr>\n",
       "      <th>0</th>\n",
       "      <td>892</td>\n",
       "      <td>3</td>\n",
       "      <td>Kelly, Mr. James</td>\n",
       "      <td>male</td>\n",
       "      <td>34.5</td>\n",
       "      <td>0</td>\n",
       "      <td>0</td>\n",
       "      <td>330911</td>\n",
       "      <td>7.8292</td>\n",
       "      <td>NaN</td>\n",
       "      <td>Q</td>\n",
       "    </tr>\n",
       "    <tr>\n",
       "      <th>1</th>\n",
       "      <td>893</td>\n",
       "      <td>3</td>\n",
       "      <td>Wilkes, Mrs. James (Ellen Needs)</td>\n",
       "      <td>female</td>\n",
       "      <td>47.0</td>\n",
       "      <td>1</td>\n",
       "      <td>0</td>\n",
       "      <td>363272</td>\n",
       "      <td>7.0000</td>\n",
       "      <td>NaN</td>\n",
       "      <td>S</td>\n",
       "    </tr>\n",
       "    <tr>\n",
       "      <th>2</th>\n",
       "      <td>894</td>\n",
       "      <td>2</td>\n",
       "      <td>Myles, Mr. Thomas Francis</td>\n",
       "      <td>male</td>\n",
       "      <td>62.0</td>\n",
       "      <td>0</td>\n",
       "      <td>0</td>\n",
       "      <td>240276</td>\n",
       "      <td>9.6875</td>\n",
       "      <td>NaN</td>\n",
       "      <td>Q</td>\n",
       "    </tr>\n",
       "    <tr>\n",
       "      <th>3</th>\n",
       "      <td>895</td>\n",
       "      <td>3</td>\n",
       "      <td>Wirz, Mr. Albert</td>\n",
       "      <td>male</td>\n",
       "      <td>27.0</td>\n",
       "      <td>0</td>\n",
       "      <td>0</td>\n",
       "      <td>315154</td>\n",
       "      <td>8.6625</td>\n",
       "      <td>NaN</td>\n",
       "      <td>S</td>\n",
       "    </tr>\n",
       "    <tr>\n",
       "      <th>4</th>\n",
       "      <td>896</td>\n",
       "      <td>3</td>\n",
       "      <td>Hirvonen, Mrs. Alexander (Helga E Lindqvist)</td>\n",
       "      <td>female</td>\n",
       "      <td>22.0</td>\n",
       "      <td>1</td>\n",
       "      <td>1</td>\n",
       "      <td>3101298</td>\n",
       "      <td>12.2875</td>\n",
       "      <td>NaN</td>\n",
       "      <td>S</td>\n",
       "    </tr>\n",
       "  </tbody>\n",
       "</table>\n",
       "</div>"
      ],
      "text/plain": [
       "   PassengerId  Pclass                                          Name     Sex  \\\n",
       "0          892       3                              Kelly, Mr. James    male   \n",
       "1          893       3              Wilkes, Mrs. James (Ellen Needs)  female   \n",
       "2          894       2                     Myles, Mr. Thomas Francis    male   \n",
       "3          895       3                              Wirz, Mr. Albert    male   \n",
       "4          896       3  Hirvonen, Mrs. Alexander (Helga E Lindqvist)  female   \n",
       "\n",
       "    Age  SibSp  Parch   Ticket     Fare Cabin Embarked  \n",
       "0  34.5      0      0   330911   7.8292   NaN        Q  \n",
       "1  47.0      1      0   363272   7.0000   NaN        S  \n",
       "2  62.0      0      0   240276   9.6875   NaN        Q  \n",
       "3  27.0      0      0   315154   8.6625   NaN        S  \n",
       "4  22.0      1      1  3101298  12.2875   NaN        S  "
      ]
     },
     "execution_count": 11,
     "metadata": {},
     "output_type": "execute_result"
    }
   ],
   "source": [
    "d3.head()"
   ]
  },
  {
   "cell_type": "code",
   "execution_count": 14,
   "id": "f2457b2e",
   "metadata": {},
   "outputs": [
    {
     "name": "stdout",
     "output_type": "stream",
     "text": [
      "% of women who survived: 0.7420382165605095\n"
     ]
    }
   ],
   "source": [
    "women = d2.loc[d2.Sex == 'female'][\"Survived\"]\n",
    "rate_women = sum(women)/len(women)\n",
    "\n",
    "print(\"% of women who survived:\", rate_women)"
   ]
  },
  {
   "cell_type": "code",
   "execution_count": 16,
   "id": "5f8d0c42",
   "metadata": {},
   "outputs": [
    {
     "name": "stdout",
     "output_type": "stream",
     "text": [
      "% of men who survived: 0.18890814558058924\n"
     ]
    }
   ],
   "source": [
    "men = d2.loc[d2.Sex == 'male'][\"Survived\"]\n",
    "rate_men = sum(men)/len(men)\n",
    "\n",
    "print(\"% of men who survived:\", rate_men)"
   ]
  },
  {
   "cell_type": "code",
   "execution_count": 18,
   "id": "f66f682c",
   "metadata": {},
   "outputs": [
    {
     "name": "stdout",
     "output_type": "stream",
     "text": [
      "Your submission was successfully saved!\n",
      "     PassengerId  Survived\n",
      "0            892         0\n",
      "1            893         1\n",
      "2            894         0\n",
      "3            895         0\n",
      "4            896         1\n",
      "..           ...       ...\n",
      "413         1305         0\n",
      "414         1306         1\n",
      "415         1307         0\n",
      "416         1308         0\n",
      "417         1309         0\n",
      "\n",
      "[418 rows x 2 columns]\n"
     ]
    }
   ],
   "source": [
    "from sklearn.ensemble import RandomForestClassifier\n",
    "\n",
    "y = d2[\"Survived\"]\n",
    "\n",
    "features = [\"Pclass\", \"Sex\", \"SibSp\", \"Parch\"]\n",
    "X = pd.get_dummies(d2[features])\n",
    "X_test = pd.get_dummies(d3[features])\n",
    "\n",
    "model = RandomForestClassifier(n_estimators=100, max_depth=5, random_state=1)\n",
    "model.fit(X, y)\n",
    "predictions = model.predict(X_test)\n",
    "\n",
    "output = pd.DataFrame({'PassengerId': d3.PassengerId, 'Survived': predictions})\n",
    "output.to_csv('submission.csv', index=False)\n",
    "print(\"Your submission was successfully saved!\")\n",
    "print(output)"
   ]
  },
  {
   "cell_type": "code",
   "execution_count": null,
   "id": "8dfce031",
   "metadata": {},
   "outputs": [],
   "source": []
  }
 ],
 "metadata": {
  "kernelspec": {
   "display_name": "Python 3 (ipykernel)",
   "language": "python",
   "name": "python3"
  },
  "language_info": {
   "codemirror_mode": {
    "name": "ipython",
    "version": 3
   },
   "file_extension": ".py",
   "mimetype": "text/x-python",
   "name": "python",
   "nbconvert_exporter": "python",
   "pygments_lexer": "ipython3",
   "version": "3.9.12"
  }
 },
 "nbformat": 4,
 "nbformat_minor": 5
}
