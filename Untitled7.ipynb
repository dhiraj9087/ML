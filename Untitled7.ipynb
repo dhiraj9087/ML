{
 "cells": [
  {
   "cell_type": "code",
   "execution_count": 1,
   "id": "500df0cd",
   "metadata": {},
   "outputs": [
    {
     "ename": "ModuleNotFoundError",
     "evalue": "No module named 'sketchpy'",
     "output_type": "error",
     "traceback": [
      "\u001b[0;31m---------------------------------------------------------------------------\u001b[0m",
      "\u001b[0;31mModuleNotFoundError\u001b[0m                       Traceback (most recent call last)",
      "Input \u001b[0;32mIn [1]\u001b[0m, in \u001b[0;36m<cell line: 1>\u001b[0;34m()\u001b[0m\n\u001b[0;32m----> 1\u001b[0m \u001b[38;5;28;01mfrom\u001b[39;00m \u001b[38;5;21;01msketchpy\u001b[39;00m \u001b[38;5;28;01mimport\u001b[39;00m library \u001b[38;5;28;01mas\u001b[39;00m lib\n",
      "\u001b[0;31mModuleNotFoundError\u001b[0m: No module named 'sketchpy'"
     ]
    }
   ],
   "source": [
    "from sketchpy import library as lib"
   ]
  },
  {
   "cell_type": "code",
   "execution_count": 2,
   "id": "c8cd122f",
   "metadata": {},
   "outputs": [
    {
     "ename": "ModuleNotFoundError",
     "evalue": "No module named 'sketchpy'",
     "output_type": "error",
     "traceback": [
      "\u001b[0;31m---------------------------------------------------------------------------\u001b[0m",
      "\u001b[0;31mModuleNotFoundError\u001b[0m                       Traceback (most recent call last)",
      "Input \u001b[0;32mIn [2]\u001b[0m, in \u001b[0;36m<cell line: 1>\u001b[0;34m()\u001b[0m\n\u001b[0;32m----> 1\u001b[0m \u001b[38;5;28;01mimport\u001b[39;00m \u001b[38;5;21;01msketchpy\u001b[39;00m\n",
      "\u001b[0;31mModuleNotFoundError\u001b[0m: No module named 'sketchpy'"
     ]
    }
   ],
   "source": [
    "import sketchpy"
   ]
  },
  {
   "cell_type": "code",
   "execution_count": 3,
   "id": "e4765718",
   "metadata": {},
   "outputs": [
    {
     "name": "stdout",
     "output_type": "stream",
     "text": [
      "Collecting sketchpy\n",
      "  Downloading sketchpy-0.1.0-py3-none-any.whl (61 kB)\n",
      "\u001b[K     |████████████████████████████████| 61 kB 1.2 MB/s eta 0:00:011\n",
      "\u001b[?25hCollecting svg.path\n",
      "  Downloading svg.path-6.2-py2.py3-none-any.whl (40 kB)\n",
      "\u001b[K     |████████████████████████████████| 40 kB 8.5 MB/s eta 0:00:01\n",
      "\u001b[?25hRequirement already satisfied: Pillow in ./opt/anaconda3/lib/python3.9/site-packages (from sketchpy) (9.0.1)\n",
      "Requirement already satisfied: tqdm in ./opt/anaconda3/lib/python3.9/site-packages (from sketchpy) (4.64.0)\n",
      "Collecting turtle==0.0.1\n",
      "  Downloading turtle-0.0.1.tar.gz (10 kB)\n",
      "Requirement already satisfied: wheel in ./opt/anaconda3/lib/python3.9/site-packages (from sketchpy) (0.37.1)\n",
      "Collecting svgpathtools\n",
      "  Downloading svgpathtools-1.5.1-py2.py3-none-any.whl (67 kB)\n",
      "\u001b[K     |████████████████████████████████| 67 kB 16.2 MB/s eta 0:00:01\n",
      "\u001b[?25hCollecting opencv-python\n",
      "  Downloading opencv_python-4.6.0.66-cp36-abi3-macosx_10_15_x86_64.whl (46.4 MB)\n",
      "\u001b[K     |████████████████████████████████| 46.4 MB 7.8 MB/s eta 0:00:01\n",
      "\u001b[?25hRequirement already satisfied: PyYAML>=3.08 in ./opt/anaconda3/lib/python3.9/site-packages (from turtle==0.0.1->sketchpy) (6.0)\n",
      "Requirement already satisfied: numpy>=1.14.5 in ./opt/anaconda3/lib/python3.9/site-packages (from opencv-python->sketchpy) (1.21.5)\n",
      "Collecting svgwrite\n",
      "  Downloading svgwrite-1.4.3-py3-none-any.whl (67 kB)\n",
      "\u001b[K     |████████████████████████████████| 67 kB 5.8 MB/s eta 0:00:01\n",
      "\u001b[?25hRequirement already satisfied: scipy in ./opt/anaconda3/lib/python3.9/site-packages (from svgpathtools->sketchpy) (1.7.3)\n",
      "Building wheels for collected packages: turtle\n",
      "  Building wheel for turtle (setup.py) ... \u001b[?25ldone\n",
      "\u001b[?25h  Created wheel for turtle: filename=turtle-0.0.1-py3-none-any.whl size=22194 sha256=388a1b27253035789bfeec42899386277523b908af566fa0e6ff87790b1096a7\n",
      "  Stored in directory: /Users/dhirajmarathe/Library/Caches/pip/wheels/1a/8b/a8/3def5d06272e9213d7691d137f65864acf0b855c476890874e\n",
      "Successfully built turtle\n",
      "Installing collected packages: svgwrite, turtle, svgpathtools, svg.path, opencv-python, sketchpy\n",
      "Successfully installed opencv-python-4.6.0.66 sketchpy-0.1.0 svg.path-6.2 svgpathtools-1.5.1 svgwrite-1.4.3 turtle-0.0.1\n",
      "Note: you may need to restart the kernel to use updated packages.\n"
     ]
    }
   ],
   "source": [
    "pip install sketchpy\n"
   ]
  },
  {
   "cell_type": "code",
   "execution_count": 1,
   "id": "e67861c1",
   "metadata": {},
   "outputs": [],
   "source": [
    "from sketchpy import library as lib\n",
    "obj = lib.rdj()\n",
    "obj.draw()"
   ]
  },
  {
   "cell_type": "code",
   "execution_count": null,
   "id": "93644086",
   "metadata": {},
   "outputs": [],
   "source": []
  }
 ],
 "metadata": {
  "kernelspec": {
   "display_name": "Python 3 (ipykernel)",
   "language": "python",
   "name": "python3"
  },
  "language_info": {
   "codemirror_mode": {
    "name": "ipython",
    "version": 3
   },
   "file_extension": ".py",
   "mimetype": "text/x-python",
   "name": "python",
   "nbconvert_exporter": "python",
   "pygments_lexer": "ipython3",
   "version": "3.9.12"
  }
 },
 "nbformat": 4,
 "nbformat_minor": 5
}
