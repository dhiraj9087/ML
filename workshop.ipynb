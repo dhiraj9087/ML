{
 "cells": [
  {
   "cell_type": "code",
   "execution_count": null,
   "id": "dd23d040",
   "metadata": {},
   "outputs": [],
   "source": [
    "import folium\n",
    "map = folium.Map(location=[18.5204 , 73.8567],zoom_start=6)\n",
    "fg = folium.FeatureGroup(name=\"My Map\")\n",
    "fg.add_child(folium.Marker(location=[18.647190, 73.750620],popup='hiiiiiii',icon=folium.Icon(color='red')))\n",
    "map.add_child(fg)\n"
   ]
  },
  {
   "cell_type": "code",
   "execution_count": 4,
   "id": "8c487c34",
   "metadata": {},
   "outputs": [
    {
     "data": {
      "text/plain": [
       "pandas.core.frame.DataFrame"
      ]
     },
     "execution_count": 4,
     "metadata": {},
     "output_type": "execute_result"
    }
   ],
   "source": [
    "import pandas\n",
    "data=pandas.read_csv('Volcanoes.txt')\n",
    "type(data)"
   ]
  },
  {
   "cell_type": "code",
   "execution_count": 5,
   "id": "655179be",
   "metadata": {},
   "outputs": [
    {
     "data": {
      "text/plain": [
       "Index(['VOLCANX020', 'NUMBER', 'NAME', 'LOCATION', 'STATUS', 'ELEV', 'TYPE',\n",
       "       'TIMEFRAME', 'LAT', 'LON'],\n",
       "      dtype='object')"
      ]
     },
     "execution_count": 5,
     "metadata": {},
     "output_type": "execute_result"
    }
   ],
   "source": [
    "data.columns"
   ]
  },
  {
   "cell_type": "code",
   "execution_count": 10,
   "id": "79f0bb51",
   "metadata": {},
   "outputs": [],
   "source": [
    "lat = data['LAT']"
   ]
  },
  {
   "cell_type": "code",
   "execution_count": 9,
   "id": "f7f78acc",
   "metadata": {},
   "outputs": [],
   "source": [
    "lon = data['LON']"
   ]
  },
  {
   "cell_type": "code",
   "execution_count": 11,
   "id": "df2022dc",
   "metadata": {},
   "outputs": [
    {
     "data": {
      "text/plain": [
       "[(48.7767982, -121.810997),\n",
       " (48.1118011, -121.1110001),\n",
       " (46.8698006, -121.7509995),\n",
       " (46.1997986, -122.1809998),\n",
       " (46.2057991, -121.4909973),\n",
       " (45.8797989, -122.0810013),\n",
       " (45.9297981, -121.8209991),\n",
       " (45.3737984, -121.6910019),\n",
       " (44.6917992, -121.8010025),\n",
       " (44.4197998, -121.7710037),\n",
       " (44.3797989, -121.9309998),\n",
       " (44.3317986, -121.8310013),\n",
       " (44.2848015, -121.8410034),\n",
       " (44.1697998, -121.7710037),\n",
       " (44.0998001, -121.7710037),\n",
       " (43.9788017, -121.6809998),\n",
       " (43.7218018, -121.2210007),\n",
       " (43.5698013, -121.8209991),\n",
       " (43.5119019, -120.8610001),\n",
       " (43.240799, -122.1009979),\n",
       " (43.4719009, -120.7509995),\n",
       " (43.3609009, -120.6610031),\n",
       " (42.9299011, -122.1210022),\n",
       " (44.4299011, -110.6709976),\n",
       " (43.0998993, -118.7509995),\n",
       " (43.1498985, -117.4710007),\n",
       " (42.9999008, -117.8010025),\n",
       " (43.419899, -113.5009995),\n",
       " (43.4999008, -112.4509964),\n",
       " (43.1799011, -114.3509979),\n",
       " (42.6058998, -117.5810013),\n",
       " (41.5798988, -121.5709991),\n",
       " (42.8799019, -113.2210007),\n",
       " (41.419899, -122.2009964),\n",
       " (41.1778984, -121.4410019),\n",
       " (40.9548988, -121.3610001),\n",
       " (40.7798996, -121.6009979),\n",
       " (40.6799011, -121.5510025),\n",
       " (40.6299019, -120.8310013),\n",
       " (40.4919014, -121.5009995),\n",
       " (38.9698982, -122.7710037),\n",
       " (39.3749008, -119.7210007),\n",
       " (39.6500015, -107.0309982),\n",
       " (37.9999008, -119.0309982),\n",
       " (38.9700012, -112.5009995),\n",
       " (37.8799019, -119.0009995),\n",
       " (37.6918983, -119.0210037),\n",
       " (37.6999016, -118.8710022),\n",
       " (37.5798988, -119.0510025),\n",
       " (37.0199013, -117.4509964),\n",
       " (37.5800018, -112.6709976),\n",
       " (37.257, -113.6210022),\n",
       " (37.3279991, -112.401001),\n",
       " (36.3578987, -118.3209991),\n",
       " (36.0298996, -117.8209991),\n",
       " (36.3800011, -113.1309967),\n",
       " (34.75, -116.6210022),\n",
       " (35.8699989, -106.5709991),\n",
       " (35.3699989, -111.5009995),\n",
       " (34.5499992, -115.7809982),\n",
       " (34.7999992, -108.0009995),\n",
       " (33.7801018, -105.9309998)]"
      ]
     },
     "execution_count": 11,
     "metadata": {},
     "output_type": "execute_result"
    }
   ],
   "source": [
    "list(zip(lat,lon))"
   ]
  },
  {
   "cell_type": "code",
   "execution_count": null,
   "id": "48439556",
   "metadata": {},
   "outputs": [],
   "source": [
    "import folium\n",
    "import pandas\n",
    "\n",
    "data = pandas.read_csv('Volcanoes.txt')\n",
    "\n",
    "lat = list(data['LAT'])\n",
    "lon = list(data['LON'])\n",
    "\n",
    "map = folium.Map(location=[38.58,-99.09],zoom_start=6)\n",
    "fg = folium.FeatureGroup(name=\"My Map\")\n",
    "\n",
    "for lt,ln in zip(lat,lon):\n",
    "    fg.add_child(folium.Marker(location=[lt,ln],popup='hiiiiiii',icon=folium.Icon(color='red')))\n",
    "map.add_child(fg)\n"
   ]
  },
  {
   "cell_type": "code",
   "execution_count": 15,
   "id": "129675a7",
   "metadata": {},
   "outputs": [
    {
     "data": {
      "text/plain": [
       "0     3285.0\n",
       "1     3213.0\n",
       "2     4392.0\n",
       "3     2549.0\n",
       "4     3742.0\n",
       "       ...  \n",
       "57    3430.0\n",
       "58    2447.0\n",
       "59     288.0\n",
       "60    2550.0\n",
       "61    1731.0\n",
       "Name: ELEV, Length: 62, dtype: float64"
      ]
     },
     "execution_count": 15,
     "metadata": {},
     "output_type": "execute_result"
    }
   ],
   "source": [
    "data['ELEV']"
   ]
  },
  {
   "cell_type": "code",
   "execution_count": null,
   "id": "6c740a92",
   "metadata": {},
   "outputs": [],
   "source": [
    "import folium\n",
    "import pandas\n",
    "\n",
    "data = pandas.read_csv('Volcanoes.txt')\n",
    "\n",
    "lat = list(data['LAT'])\n",
    "lon = list(data['LON'])\n",
    "elev = list(data['ELEV'])\n",
    "\n",
    "def color_producer(elevation):\n",
    "    if elevation<1000:\n",
    "        return 'blue'\n",
    "    elif 1000<=elevation<3000:\n",
    "        return 'orange'\n",
    "    else:\n",
    "        return 'red'\n",
    "\n",
    "map = folium.Map(location=[38.58,-99.09],zoom_start=6)\n",
    "fg = folium.FeatureGroup(name=\"My Map\")\n",
    "\n",
    "for lt,ln,el in zip(lat,lon,elev):\n",
    "    fg.add_child(folium.CircleMarker(location=[lt,ln],radius = 5,popup=str(el)+' mi',fill_color=color_producer(el), fill = True, color = 'grey',fill_opacity = 1.5))\n",
    "map.add_child(fg)\n",
    "map.save('mymap.html')\n",
    "map"
   ]
  },
  {
   "cell_type": "code",
   "execution_count": null,
   "id": "482937b0",
   "metadata": {},
   "outputs": [],
   "source": [
    "import folium\n",
    "import pandas\n",
    "import json\n",
    "\n",
    "data = pandas.read_csv('Volcanoes.txt')#has the csv file that has name location and \n",
    "\n",
    "lat = list(data['LAT'])\n",
    "lon = list(data['LON'])\n",
    "elev = list(data['ELEV'])\n",
    "\n",
    "def color_producer(elevation):\n",
    "    if elevation<1000:\n",
    "        return 'blue'\n",
    "    elif 1000<=elevation<3000:\n",
    "        return 'orange'\n",
    "    else:\n",
    "        return 'red'\n",
    "\n",
    "map = folium.Map(location=[38.58,-99.09],zoom_start=6)\n",
    "fg = folium.FeatureGroup(name=\"My Map\")\n",
    "\n",
    "for lt,ln,el in zip(lat,lon,elev):\n",
    "    fg.add_child(folium.CircleMarker(location=[lt,ln],radius = 5,popup=str(el)+' mi',fill_color=color_producer(el), fill = True, color = 'grey',fill_opacity = 1.5))\n",
    "fg.add_child(folium.GeoJson(data = open('world.json','r',encoding = 'utf-8-sig').read(),style_function=lambda x: {'fillColor':'green' if x['properties']['POP2005']<10000000 else 'orange' if 10000000<=x['properties']['POP2005']<20000000 else 'red'}))\n",
    "map.add_child(fg)\n",
    "map.save('mymap.html')\n",
    "map"
   ]
  },
  {
   "cell_type": "code",
   "execution_count": null,
   "id": "973efc57",
   "metadata": {},
   "outputs": [],
   "source": [
    "import folium\n",
    "import pandas\n",
    "import json\n",
    "\n",
    "data = pandas.read_csv('Volcanoes.txt')#has the csv file that has name location and \n",
    "\n",
    "lat = list(data['LAT'])\n",
    "lon = list(data['LON'])\n",
    "elev = list(data['ELEV'])\n",
    "\n",
    "def color_producer(elevation):\n",
    "    if elevation<1000:\n",
    "        return 'blue'\n",
    "    elif 1000<=elevation<3000:\n",
    "        return 'orange'\n",
    "    else:\n",
    "        return 'red'\n",
    "\n",
    "map = folium.Map(location=[38.58,-99.09],zoom_start=6)\n",
    "fg = folium.FeatureGroup(name=\"My Map\")\n",
    "fgv = folium.FeatureGroup(name='Volcanoes')\n",
    "\n",
    "for lt,ln,el in zip(lat,lon,elev):\n",
    "    fgv.add_child(folium.CircleMarker(location=[lt,ln],radius = 5,popup=str(el)+' mi',fill_color=color_producer(el), fill = True, color = 'grey',fill_opacity = 1.5))\n",
    "    \n",
    "fgp = folium.FeatureGroup(name='Population')\n",
    "\n",
    "fgp.add_child(folium.GeoJson(data = open('world.json','r',encoding = 'utf-8-sig').read(),style_function=lambda x: {'fillColor':'green' if x['properties']['POP2005']<10000000 else 'orange' if 10000000<=x['properties']['POP2005']<20000000 else 'red'}))\n",
    "\n",
    "map.add_child(fgv)\n",
    "map.add_child(fgp)\n",
    "map.add_child(folium.LayerControl())\n",
    "map.save('mymap.html')\n",
    "map"
   ]
  },
  {
   "cell_type": "code",
   "execution_count": null,
   "id": "303069d8",
   "metadata": {},
   "outputs": [],
   "source": [
    "import pyttsx3\n",
    "engine=pyttsx3.init()\n",
    "\"\"\" RATE\"\"\"\n",
    "rate = engine.getProperty('rate')   # getting details of current speaking rate\n",
    "print (rate)                        #printing current voice rate\n",
    "engine.setProperty('rate', 100)     # setting up new voice rate\n",
    "\n",
    "\n",
    "engine.say('Whaaaaaaaaaaaaaaaaaaaaaaaaaaaat ')\n",
    "engine.runAndWait()\n"
   ]
  },
  {
   "cell_type": "code",
   "execution_count": null,
   "id": "aaa17f3d",
   "metadata": {},
   "outputs": [],
   "source": [
    "from tkinter import *\n",
    "\n",
    "window = Tk()\n",
    "\n",
    "def km_to_miles():\n",
    "    miles = float(e1_value.get())*1.6\n",
    "    t1.insert(END, miles)\n",
    "\n",
    "b1 = Button(window, text = 'Click to Execute', command = km_to_miles)\n",
    "b1.grid(row = 0, column = 0)\n",
    "\n",
    "e1_value = StringVar()\n",
    "e1 = Entry(window, textvariable=e1_value)\n",
    "e1.grid(row = 0, column = 1)\n",
    "\n",
    "t1 = Text(window, height = 1, width  = 20)\n",
    "t1.grid(row=0,column=2)\n",
    "\n",
    "window.mainloop()\n"
   ]
  },
  {
   "cell_type": "code",
   "execution_count": 1,
   "id": "5d3ed53b",
   "metadata": {},
   "outputs": [],
   "source": [
    "from tkinter import *\n",
    "\n",
    "window=Tk()\n",
    "\n",
    "def from_kg():\n",
    "    gram=float(e2_value.get()) * 1000\n",
    "    pound= float(e2_value.get()) * 2.20462\n",
    "    ounce = float(e2_value.get()) * 35.274\n",
    "    t1.delete(\"1.0\",END)\n",
    "    t1.insert(END,gram)\n",
    "    t2.delete(\"1.0\",END)\n",
    "    t2.insert(END,pound)\n",
    "    t3.delete(\"1.0\",END)\n",
    "    t3.insert(END,ounce)\n",
    "\n",
    "e1=Label(window,text=\"kg\")\n",
    "e1.grid(row=0,column=0)\n",
    "\n",
    "m1=Label(window,text=\"gram\")\n",
    "m1.grid(row=2,column=0)\n",
    "\n",
    "m2=Label(window,text=\"pound\")\n",
    "m2.grid(row=2,column=1)\n",
    "\n",
    "m3=Label(window,text=\"ounce\")\n",
    "m3.grid(row=2,column=2)\n",
    "\n",
    "e2_value=StringVar()\n",
    "e2=Entry(window, textvariable=e2_value)\n",
    "e2.grid(row=0,column=1)\n",
    "\n",
    "b1=Button(window,text=\"Convert\", command=from_kg)\n",
    "b1.grid(row=0,column=2)\n",
    "\n",
    "t1=Text(window,height=1,width=20)\n",
    "t1.grid(row=1,column=0)\n",
    "t2=Text(window,height=1,width=20)\n",
    "t2.grid(row=1,column=1)\n",
    "t3=Text(window,height=1,width=20)\n",
    "t3.grid(row=1,column=2)\n",
    "\n",
    "window.mainloop()"
   ]
  },
  {
   "cell_type": "code",
   "execution_count": 6,
   "id": "3d29d280",
   "metadata": {},
   "outputs": [
    {
     "name": "stdout",
     "output_type": "stream",
     "text": [
      "<class 'float'>\n"
     ]
    }
   ],
   "source": [
    "print(type(eval(input(\"Enter the value: \"))))"
   ]
  },
  {
   "cell_type": "code",
   "execution_count": 8,
   "id": "c2800ed7",
   "metadata": {},
   "outputs": [
    {
     "data": {
      "text/plain": [
       "<_io.TextIOWrapper name='Sample.txt' mode='w' encoding='cp1252'>"
      ]
     },
     "execution_count": 8,
     "metadata": {},
     "output_type": "execute_result"
    }
   ],
   "source": [
    "open(\"Sample.txt\",'w')"
   ]
  },
  {
   "cell_type": "code",
   "execution_count": 11,
   "id": "9dd0f41f",
   "metadata": {},
   "outputs": [
    {
     "name": "stdout",
     "output_type": "stream",
     "text": [
      "Contents are written successfully\n"
     ]
    }
   ],
   "source": [
    "try:\n",
    "    f=open(\"Sample.txt\",'w')\n",
    "    f.write(\"Hello everyone\")\n",
    "except:\n",
    "    print(\"There is some error in the code\")\n",
    "else:\n",
    "    print(\"Contents are written successfully\")"
   ]
  },
  {
   "cell_type": "code",
   "execution_count": 12,
   "id": "0876abbd",
   "metadata": {},
   "outputs": [
    {
     "name": "stdout",
     "output_type": "stream",
     "text": [
      "There is some error in the code\n"
     ]
    }
   ],
   "source": [
    "try:\n",
    "    f=open(\"Sample.txt\")\n",
    "    f.write(\"Hello everyone\")\n",
    "except:\n",
    "    print(\"There is some error in the code\")\n",
    "else:\n",
    "    print(\"Contents are written successfully\")"
   ]
  },
  {
   "cell_type": "code",
   "execution_count": 14,
   "id": "5e0e53d5",
   "metadata": {},
   "outputs": [
    {
     "name": "stdout",
     "output_type": "stream",
     "text": [
      "<class 'Exception'>\n"
     ]
    }
   ],
   "source": [
    "try:\n",
    "    f=open(\"Sample.txt\")\n",
    "    f.write(\"Hello everyone\")\n",
    "except Exception:\n",
    "    print(Exception)\n",
    "else:\n",
    "    print(\"Contents are written successfully\")"
   ]
  },
  {
   "cell_type": "code",
   "execution_count": 15,
   "id": "280bfd45",
   "metadata": {},
   "outputs": [
    {
     "name": "stdout",
     "output_type": "stream",
     "text": [
      "<class 'Exception'>\n",
      "We are in Finally Block\n"
     ]
    }
   ],
   "source": [
    "from typing import final\n",
    "\n",
    "\n",
    "try:\n",
    "    f=open(\"Sample.txt\")\n",
    "    f.write(\"Hello everyone\")\n",
    "except Exception:\n",
    "    print(Exception)\n",
    "except:\n",
    "    print(\"Bye\")\n",
    "else:\n",
    "    print(\"Contents are written successfully\")\n",
    "finally:\n",
    "    print(\"We are in Finally Block\")"
   ]
  },
  {
   "cell_type": "code",
   "execution_count": null,
   "id": "aae343a3",
   "metadata": {},
   "outputs": [],
   "source": []
  }
 ],
 "metadata": {
  "kernelspec": {
   "display_name": "Python 3 (ipykernel)",
   "language": "python",
   "name": "python3"
  },
  "language_info": {
   "codemirror_mode": {
    "name": "ipython",
    "version": 3
   },
   "file_extension": ".py",
   "mimetype": "text/x-python",
   "name": "python",
   "nbconvert_exporter": "python",
   "pygments_lexer": "ipython3",
   "version": "3.9.12"
  },
  "vscode": {
   "interpreter": {
    "hash": "b13cae039e46398518c78f273f664ab59a0396b5c4cd01c50b884350ed5f7e8a"
   }
  }
 },
 "nbformat": 4,
 "nbformat_minor": 5
}
