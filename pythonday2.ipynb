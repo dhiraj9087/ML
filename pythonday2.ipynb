{
 "cells": [
  {
   "cell_type": "code",
   "execution_count": 1,
   "id": "4a1939b3",
   "metadata": {},
   "outputs": [
    {
     "data": {
      "text/plain": [
       "['dog', 'cat', 'great']"
      ]
     },
     "execution_count": 1,
     "metadata": {},
     "output_type": "execute_result"
    }
   ],
   "source": [
    "seq=['soup','dog','salad','cat','great']\n",
    "def func():\n",
    "    for i in seq:\n",
    "        if i[0]=='s':\n",
    "         seq.remove(i)\n",
    "    return seq         \n",
    "func()        "
   ]
  },
  {
   "cell_type": "code",
   "execution_count": 15,
   "id": "1b0bd25b",
   "metadata": {},
   "outputs": [
    {
     "data": {
      "text/plain": [
       "<function __main__.<lambda>(v)>"
      ]
     },
     "execution_count": 15,
     "metadata": {},
     "output_type": "execute_result"
    }
   ],
   "source": [
    "lambda v:v[0]!='s'\n"
   ]
  },
  {
   "cell_type": "code",
   "execution_count": 16,
   "id": "c0de18a5",
   "metadata": {},
   "outputs": [
    {
     "data": {
      "text/plain": [
       "['dog', 'cat', 'great']"
      ]
     },
     "execution_count": 16,
     "metadata": {},
     "output_type": "execute_result"
    }
   ],
   "source": [
    "list(filter(lambda v:v[0]!='s',seq))"
   ]
  },
  {
   "cell_type": "code",
   "execution_count": 17,
   "id": "a4ab2733",
   "metadata": {},
   "outputs": [
    {
     "data": {
      "text/plain": [
       "<function __main__.<lambda>(v)>"
      ]
     },
     "execution_count": 17,
     "metadata": {},
     "output_type": "execute_result"
    }
   ],
   "source": [
    "data=[23,46,50,57,171,172]\n",
    "lambda v:v%2==0"
   ]
  },
  {
   "cell_type": "code",
   "execution_count": 19,
   "id": "2d347c1c",
   "metadata": {},
   "outputs": [
    {
     "data": {
      "text/plain": [
       "[46, 50, 172]"
      ]
     },
     "execution_count": 19,
     "metadata": {},
     "output_type": "execute_result"
    }
   ],
   "source": [
    "list(filter(lambda v:v%2==0,data))"
   ]
  },
  {
   "cell_type": "code",
   "execution_count": 30,
   "id": "35e0583b",
   "metadata": {},
   "outputs": [
    {
     "data": {
      "text/plain": [
       "[12167, 97336, 125000, 185193, 5000211, 5088448]"
      ]
     },
     "execution_count": 30,
     "metadata": {},
     "output_type": "execute_result"
    }
   ],
   "source": [
    "list((map(lambda v:v*v*v,data)))\n",
    "     "
   ]
  },
  {
   "cell_type": "code",
   "execution_count": 22,
   "id": "a59e0d4d",
   "metadata": {},
   "outputs": [
    {
     "ename": "KeyboardInterrupt",
     "evalue": "Interrupted by user",
     "output_type": "error",
     "traceback": [
      "\u001b[1;31m---------------------------------------------------------------------------\u001b[0m",
      "\u001b[1;31mKeyboardInterrupt\u001b[0m                         Traceback (most recent call last)",
      "Input \u001b[1;32mIn [22]\u001b[0m, in \u001b[0;36m<cell line: 19>\u001b[1;34m()\u001b[0m\n\u001b[0;32m     16\u001b[0m         \u001b[38;5;28;01melif\u001b[39;00m speed\u001b[38;5;241m>\u001b[39m\u001b[38;5;241m81\u001b[39m:\n\u001b[0;32m     17\u001b[0m           \u001b[38;5;28mprint\u001b[39m(\u001b[38;5;124m\"\u001b[39m\u001b[38;5;124mbig ticket\u001b[39m\u001b[38;5;124m\"\u001b[39m)\n\u001b[1;32m---> 19\u001b[0m \u001b[43mspeedlimit\u001b[49m\u001b[43m(\u001b[49m\u001b[43m)\u001b[49m\n",
      "Input \u001b[1;32mIn [22]\u001b[0m, in \u001b[0;36mspeedlimit\u001b[1;34m()\u001b[0m\n\u001b[0;32m      1\u001b[0m \u001b[38;5;28;01mdef\u001b[39;00m \u001b[38;5;21mspeedlimit\u001b[39m():\n\u001b[1;32m----> 2\u001b[0m     speed\u001b[38;5;241m=\u001b[39m\u001b[38;5;28mint\u001b[39m(\u001b[38;5;28;43minput\u001b[39;49m\u001b[43m(\u001b[49m\u001b[38;5;124;43m\"\u001b[39;49m\u001b[38;5;124;43mEnter your speed\u001b[39;49m\u001b[38;5;124;43m\"\u001b[39;49m\u001b[43m)\u001b[49m)\n\u001b[0;32m      3\u001b[0m     birthdate\u001b[38;5;241m=\u001b[39m\u001b[38;5;28mbool\u001b[39m(\u001b[38;5;28minput\u001b[39m(\u001b[38;5;124m\"\u001b[39m\u001b[38;5;124mis it your birthday\u001b[39m\u001b[38;5;124m\"\u001b[39m))\n\u001b[0;32m      4\u001b[0m     \u001b[38;5;28;01mif\u001b[39;00m birthdate\u001b[38;5;241m==\u001b[39m\u001b[38;5;124m\"\u001b[39m\u001b[38;5;124my\u001b[39m\u001b[38;5;124m\"\u001b[39m:\n",
      "File \u001b[1;32m~\\anaconda3\\lib\\site-packages\\ipykernel\\kernelbase.py:1075\u001b[0m, in \u001b[0;36mKernel.raw_input\u001b[1;34m(self, prompt)\u001b[0m\n\u001b[0;32m   1071\u001b[0m \u001b[38;5;28;01mif\u001b[39;00m \u001b[38;5;129;01mnot\u001b[39;00m \u001b[38;5;28mself\u001b[39m\u001b[38;5;241m.\u001b[39m_allow_stdin:\n\u001b[0;32m   1072\u001b[0m     \u001b[38;5;28;01mraise\u001b[39;00m StdinNotImplementedError(\n\u001b[0;32m   1073\u001b[0m         \u001b[38;5;124m\"\u001b[39m\u001b[38;5;124mraw_input was called, but this frontend does not support input requests.\u001b[39m\u001b[38;5;124m\"\u001b[39m\n\u001b[0;32m   1074\u001b[0m     )\n\u001b[1;32m-> 1075\u001b[0m \u001b[38;5;28;01mreturn\u001b[39;00m \u001b[38;5;28;43mself\u001b[39;49m\u001b[38;5;241;43m.\u001b[39;49m\u001b[43m_input_request\u001b[49m\u001b[43m(\u001b[49m\n\u001b[0;32m   1076\u001b[0m \u001b[43m    \u001b[49m\u001b[38;5;28;43mstr\u001b[39;49m\u001b[43m(\u001b[49m\u001b[43mprompt\u001b[49m\u001b[43m)\u001b[49m\u001b[43m,\u001b[49m\n\u001b[0;32m   1077\u001b[0m \u001b[43m    \u001b[49m\u001b[38;5;28;43mself\u001b[39;49m\u001b[38;5;241;43m.\u001b[39;49m\u001b[43m_parent_ident\u001b[49m\u001b[43m[\u001b[49m\u001b[38;5;124;43m\"\u001b[39;49m\u001b[38;5;124;43mshell\u001b[39;49m\u001b[38;5;124;43m\"\u001b[39;49m\u001b[43m]\u001b[49m\u001b[43m,\u001b[49m\n\u001b[0;32m   1078\u001b[0m \u001b[43m    \u001b[49m\u001b[38;5;28;43mself\u001b[39;49m\u001b[38;5;241;43m.\u001b[39;49m\u001b[43mget_parent\u001b[49m\u001b[43m(\u001b[49m\u001b[38;5;124;43m\"\u001b[39;49m\u001b[38;5;124;43mshell\u001b[39;49m\u001b[38;5;124;43m\"\u001b[39;49m\u001b[43m)\u001b[49m\u001b[43m,\u001b[49m\n\u001b[0;32m   1079\u001b[0m \u001b[43m    \u001b[49m\u001b[43mpassword\u001b[49m\u001b[38;5;241;43m=\u001b[39;49m\u001b[38;5;28;43;01mFalse\u001b[39;49;00m\u001b[43m,\u001b[49m\n\u001b[0;32m   1080\u001b[0m \u001b[43m\u001b[49m\u001b[43m)\u001b[49m\n",
      "File \u001b[1;32m~\\anaconda3\\lib\\site-packages\\ipykernel\\kernelbase.py:1120\u001b[0m, in \u001b[0;36mKernel._input_request\u001b[1;34m(self, prompt, ident, parent, password)\u001b[0m\n\u001b[0;32m   1117\u001b[0m             \u001b[38;5;28;01mbreak\u001b[39;00m\n\u001b[0;32m   1118\u001b[0m \u001b[38;5;28;01mexcept\u001b[39;00m \u001b[38;5;167;01mKeyboardInterrupt\u001b[39;00m:\n\u001b[0;32m   1119\u001b[0m     \u001b[38;5;66;03m# re-raise KeyboardInterrupt, to truncate traceback\u001b[39;00m\n\u001b[1;32m-> 1120\u001b[0m     \u001b[38;5;28;01mraise\u001b[39;00m \u001b[38;5;167;01mKeyboardInterrupt\u001b[39;00m(\u001b[38;5;124m\"\u001b[39m\u001b[38;5;124mInterrupted by user\u001b[39m\u001b[38;5;124m\"\u001b[39m) \u001b[38;5;28;01mfrom\u001b[39;00m \u001b[38;5;28mNone\u001b[39m\n\u001b[0;32m   1121\u001b[0m \u001b[38;5;28;01mexcept\u001b[39;00m \u001b[38;5;167;01mException\u001b[39;00m:\n\u001b[0;32m   1122\u001b[0m     \u001b[38;5;28mself\u001b[39m\u001b[38;5;241m.\u001b[39mlog\u001b[38;5;241m.\u001b[39mwarning(\u001b[38;5;124m\"\u001b[39m\u001b[38;5;124mInvalid Message:\u001b[39m\u001b[38;5;124m\"\u001b[39m, exc_info\u001b[38;5;241m=\u001b[39m\u001b[38;5;28;01mTrue\u001b[39;00m)\n",
      "\u001b[1;31mKeyboardInterrupt\u001b[0m: Interrupted by user"
     ]
    }
   ],
   "source": [
    "def speedlimit():\n",
    "    speed=int(input(\"Enter your speed\"))\n",
    "    birthdate=bool(input(\"is it your birthday\"))\n",
    "    if birthdate==\"y\":\n",
    "        if speed<=65:\n",
    "          print(\"No ticket\")\n",
    "        elif speed>65 and speed<=85:\n",
    "          print(\"Small ticket\")\n",
    "        elif speed>86:\n",
    "          print(\"big ticket\")\n",
    "    else:\n",
    "        if speed<=60:\n",
    "          print(\"No ticket\")\n",
    "        elif speed>60 and speed<=80:\n",
    "          print(\"Small ticket\")\n",
    "        elif speed>81:\n",
    "          print(\"big ticket\")\n",
    "        \n",
    "speedlimit()        "
   ]
  },
  {
   "cell_type": "code",
   "execution_count": 12,
   "id": "3e7bb04f",
   "metadata": {},
   "outputs": [
    {
     "name": "stdout",
     "output_type": "stream",
     "text": [
      "Small ticket\n"
     ]
    }
   ],
   "source": [
    "def speed(sp,birt):\n",
    "    if birt:\n",
    "        speednew=sp-5\n",
    "    else:\n",
    "        speednew=sp\n",
    "    if   speednew<=60:\n",
    "          print(\"No ticket\")\n",
    "    elif speednew>60 and speednew<=80:\n",
    "          print(\"Small ticket\")\n",
    "    elif speednew>81:\n",
    "          print(\"big ticket\")\n",
    "speed(84,True)       "
   ]
  },
  {
   "cell_type": "code",
   "execution_count": 31,
   "id": "9748a95e",
   "metadata": {
    "scrolled": true
   },
   "outputs": [
    {
     "name": "stdout",
     "output_type": "stream",
     "text": [
      "enter a stringhui687\n",
      "687"
     ]
    }
   ],
   "source": [
    "name=input(\"enter a string\")\n",
    "n=len(name)\n",
    "if name[0]==\"-\":\n",
    " print(\"-\",end=\"\")\n",
    "for i in range(n):\n",
    "    if name[i]>='0' and name[i]<=\"9\":\n",
    "        print(name[i],end=\"\")\n",
    "\n"
   ]
  },
  {
   "cell_type": "code",
   "execution_count": 35,
   "id": "67a98832",
   "metadata": {},
   "outputs": [
    {
     "name": "stdout",
     "output_type": "stream",
     "text": [
      "enter a string79jih\n",
      "79\n"
     ]
    }
   ],
   "source": [
    "s=input(\"enter a string\")\n",
    "n=\"\"\n",
    "data=[0,1,2,3,4,5,6,7,8,9]\n",
    "if s[0]==\"-\":\n",
    "   n=n+s[0]\n",
    "for c in s:\n",
    "    if c in str(data): \n",
    "        n=n+c\n",
    "print(n)"
   ]
  },
  {
   "cell_type": "code",
   "execution_count": 60,
   "id": "fc7e0f31",
   "metadata": {},
   "outputs": [
    {
     "name": "stdout",
     "output_type": "stream",
     "text": [
      "Enter a number88\n",
      "number is 847\n",
      "reverse is 748\n",
      "number is 1595\n",
      "reverse is 5951\n",
      "number is 7546\n",
      "reverse is 6457\n",
      "number is 14003\n",
      "reverse is 30041\n",
      "number is 44044\n",
      "reverse is 44044\n",
      "panlindrome 44044\n"
     ]
    }
   ],
   "source": [
    "a=input(\"Enter a number\")\n",
    "b=a[::-1]\n",
    "c=str(int(a)+int(b))\n",
    "while c!=c[::-1]:\n",
    "    \n",
    "    c=(str(int(c)+int(c[::-1])))\n",
    "    print(\"number is\",c) \n",
    "    print(\"reverse is\",c[::-1])\n",
    "print(\"panlindrome\",c)\n"
   ]
  },
  {
   "cell_type": "code",
   "execution_count": 10,
   "id": "5d5f8776",
   "metadata": {},
   "outputs": [
    {
     "data": {
      "text/plain": [
       "'75313'"
      ]
     },
     "execution_count": 10,
     "metadata": {},
     "output_type": "execute_result"
    }
   ],
   "source": [
    "def check():\n",
    "    for i in range(10000,90000):\n",
    "     a=str(i)\n",
    "     if (int(a[0]))==(int(a[1])+2) and (int(a[1]))==(int(a[2])+2) and (int(a[3])+2)==(int(a[2])) and (int(a[4]))==(int(a[3])+2):\n",
    "        if (int(a[0]))==int(a[2])+int(a[3])+int(a[4]):\n",
    "            if (int(a[0]))+int(a[1])+int(a[2])+int(a[3])+int(a[4])==19:\n",
    "                 return a\n",
    "check()"
   ]
  },
  {
   "cell_type": "code",
   "execution_count": 11,
   "id": "2464e8bf",
   "metadata": {},
   "outputs": [
    {
     "data": {
      "text/plain": [
       "'C:\\\\Users\\\\munis'"
      ]
     },
     "execution_count": 11,
     "metadata": {},
     "output_type": "execute_result"
    }
   ],
   "source": [
    "pwd"
   ]
  },
  {
   "cell_type": "code",
   "execution_count": 12,
   "id": "739cc9b7",
   "metadata": {},
   "outputs": [],
   "source": [
    "import json"
   ]
  },
  {
   "cell_type": "code",
   "execution_count": 14,
   "id": "0879f963",
   "metadata": {},
   "outputs": [],
   "source": [
    "f=open(\"pccoe.txt\",'w') #creates a file but 'r'mode displays error"
   ]
  },
  {
   "cell_type": "code",
   "execution_count": 15,
   "id": "6caa8730",
   "metadata": {},
   "outputs": [],
   "source": [
    "f=open(\"pccoer.txt\",'x')"
   ]
  },
  {
   "cell_type": "code",
   "execution_count": 17,
   "id": "dee535c7",
   "metadata": {},
   "outputs": [],
   "source": [
    "f.close() #close for memory management"
   ]
  },
  {
   "cell_type": "code",
   "execution_count": 21,
   "id": "bea7dcb2",
   "metadata": {},
   "outputs": [],
   "source": [
    "try:\n",
    "    f=open(\"pccoe.txt\",'w')\n",
    "    f.write(\"hey Its me see you soon\")\n",
    "finally:\n",
    "    f.close()"
   ]
  },
  {
   "cell_type": "code",
   "execution_count": 24,
   "id": "19fdcd98",
   "metadata": {},
   "outputs": [],
   "source": [
    "with open(\"pccoer.txt\",'w') as f:\n",
    "    f.write(\"this is first line\\n\")\n",
    "    f.write(\"this is last line\\n\")"
   ]
  },
  {
   "cell_type": "code",
   "execution_count": 28,
   "id": "0fcda359",
   "metadata": {},
   "outputs": [],
   "source": [
    "f=open(\"pccoer.txt\")"
   ]
  },
  {
   "cell_type": "code",
   "execution_count": 29,
   "id": "aff387a0",
   "metadata": {},
   "outputs": [
    {
     "data": {
      "text/plain": [
       "'this is first line\\nthis is last line\\n'"
      ]
     },
     "execution_count": 29,
     "metadata": {},
     "output_type": "execute_result"
    }
   ],
   "source": [
    "f.read()  "
   ]
  },
  {
   "cell_type": "code",
   "execution_count": 30,
   "id": "10c9d2ba",
   "metadata": {},
   "outputs": [
    {
     "data": {
      "text/plain": [
       "''"
      ]
     },
     "execution_count": 30,
     "metadata": {},
     "output_type": "execute_result"
    }
   ],
   "source": [
    "f.read() #as already it has read "
   ]
  },
  {
   "cell_type": "code",
   "execution_count": 32,
   "id": "6f13ae99",
   "metadata": {},
   "outputs": [
    {
     "data": {
      "text/plain": [
       "0"
      ]
     },
     "execution_count": 32,
     "metadata": {},
     "output_type": "execute_result"
    }
   ],
   "source": [
    "f.seek(0)  #brings to required position "
   ]
  },
  {
   "cell_type": "code",
   "execution_count": 33,
   "id": "83bbed88",
   "metadata": {},
   "outputs": [
    {
     "data": {
      "text/plain": [
       "'this is first line\\nthis is last line\\n'"
      ]
     },
     "execution_count": 33,
     "metadata": {},
     "output_type": "execute_result"
    }
   ],
   "source": [
    "f.read()"
   ]
  },
  {
   "cell_type": "code",
   "execution_count": 35,
   "id": "d8e111f6",
   "metadata": {},
   "outputs": [
    {
     "data": {
      "text/plain": [
       "39"
      ]
     },
     "execution_count": 35,
     "metadata": {},
     "output_type": "execute_result"
    }
   ],
   "source": [
    "f.tell() #notifies on which line we are"
   ]
  },
  {
   "cell_type": "code",
   "execution_count": 49,
   "id": "45e1f863",
   "metadata": {},
   "outputs": [
    {
     "data": {
      "text/plain": [
       "0"
      ]
     },
     "execution_count": 49,
     "metadata": {},
     "output_type": "execute_result"
    }
   ],
   "source": [
    "f.seek(0)  \n"
   ]
  },
  {
   "cell_type": "code",
   "execution_count": 50,
   "id": "35237e7c",
   "metadata": {},
   "outputs": [
    {
     "data": {
      "text/plain": [
       "['this is first line\\n', 'this is last line\\n']"
      ]
     },
     "execution_count": 50,
     "metadata": {},
     "output_type": "execute_result"
    }
   ],
   "source": [
    "f.readlines()"
   ]
  },
  {
   "cell_type": "code",
   "execution_count": 55,
   "id": "361d3234",
   "metadata": {},
   "outputs": [
    {
     "data": {
      "text/plain": [
       "11"
      ]
     },
     "execution_count": 55,
     "metadata": {},
     "output_type": "execute_result"
    }
   ],
   "source": [
    "f=open(\"kashish.txt\",\"a\")\n",
    "f.write(\"heloooooooo\")"
   ]
  },
  {
   "cell_type": "code",
   "execution_count": 3,
   "id": "48873d0e",
   "metadata": {},
   "outputs": [],
   "source": [
    "import json\n",
    "data=json.load(open(\"data.json\"))"
   ]
  },
  {
   "cell_type": "code",
   "execution_count": 2,
   "id": "754593e7",
   "metadata": {},
   "outputs": [
    {
     "ename": "NameError",
     "evalue": "name 'data' is not defined",
     "output_type": "error",
     "traceback": [
      "\u001b[0;31m---------------------------------------------------------------------------\u001b[0m",
      "\u001b[0;31mNameError\u001b[0m                                 Traceback (most recent call last)",
      "Input \u001b[0;32mIn [2]\u001b[0m, in \u001b[0;36m<cell line: 1>\u001b[0;34m()\u001b[0m\n\u001b[0;32m----> 1\u001b[0m \u001b[38;5;28mtype\u001b[39m(\u001b[43mdata\u001b[49m)\n",
      "\u001b[0;31mNameError\u001b[0m: name 'data' is not defined"
     ]
    }
   ],
   "source": [
    "type(data)"
   ]
  },
  {
   "cell_type": "code",
   "execution_count": 12,
   "id": "663132c3",
   "metadata": {},
   "outputs": [
    {
     "data": {
      "text/plain": [
       "['The second largest city in the Indian state of Maharashtra. Once the capital of the Maratha Empire, situated 560 metres above sea level on the Deccan plateau at the confluence of the Mula and Mutha rivers.']"
      ]
     },
     "execution_count": 12,
     "metadata": {},
     "output_type": "execute_result"
    }
   ],
   "source": [
    "data['Pune']"
   ]
  },
  {
   "cell_type": "code",
   "execution_count": 13,
   "id": "345a0a56",
   "metadata": {},
   "outputs": [
    {
     "data": {
      "text/plain": [
       "['A stream of water which flows in a channel from high ground to low ground and ultimately to a lake or the sea, except in a desert area where it may dwindle away to nothing.']"
      ]
     },
     "execution_count": 13,
     "metadata": {},
     "output_type": "execute_result"
    }
   ],
   "source": [
    "data[\"river\"]"
   ]
  },
  {
   "cell_type": "code",
   "execution_count": 15,
   "id": "bec82981",
   "metadata": {},
   "outputs": [
    {
     "data": {
      "text/plain": [
       "['An enclosed body of water, usually but not necessarily fresh water, from which the sea is excluded.']"
      ]
     },
     "execution_count": 15,
     "metadata": {},
     "output_type": "execute_result"
    }
   ],
   "source": [
    "data['lake']"
   ]
  },
  {
   "cell_type": "code",
   "execution_count": 27,
   "id": "0c70bda3",
   "metadata": {},
   "outputs": [
    {
     "name": "stdout",
     "output_type": "stream",
     "text": [
      "Enter word :smart\n",
      "['Not showing due respect.', 'Of high or especially quick cognitive capacity.', 'Exhibiting social ability or cleverness.', 'Elegant and stylish.']\n"
     ]
    }
   ],
   "source": [
    "import json\n",
    "data= json.load(open(\"data.json\"))\n",
    "def translate(w):\n",
    "    w=w.lower()\n",
    "    if w in data :\n",
    "      return data[w]\n",
    "    else:\n",
    "      return \"word doesnot exist\"\n",
    "word= input(\"Enter word :\")\n",
    "print(translate(word))"
   ]
  },
  {
   "cell_type": "code",
   "execution_count": 30,
   "id": "d4e1b3f1",
   "metadata": {},
   "outputs": [
    {
     "data": {
      "text/plain": [
       "0.6666666666666666"
      ]
     },
     "execution_count": 30,
     "metadata": {},
     "output_type": "execute_result"
    }
   ],
   "source": [
    "from difflib import SequenceMatcher        # displays how much similarity is there between all\n",
    "SequenceMatcher(None,\"car\",\"Car\").ratio()"
   ]
  },
  {
   "cell_type": "code",
   "execution_count": 31,
   "id": "363b370d",
   "metadata": {},
   "outputs": [],
   "source": [
    "from difflib import get_close_matches"
   ]
  },
  {
   "cell_type": "code",
   "execution_count": 35,
   "id": "19d2283f",
   "metadata": {},
   "outputs": [
    {
     "data": {
      "text/plain": [
       "['main', 'gain', 'chain']"
      ]
     },
     "execution_count": 35,
     "metadata": {},
     "output_type": "execute_result"
    }
   ],
   "source": [
    "get_close_matches(\"rain\",[\"help\",\"pyramid\"\"rain\",\"main\",\"chain\",\"gain\"],n=4)"
   ]
  },
  {
   "cell_type": "code",
   "execution_count": 36,
   "id": "3bb43bc8",
   "metadata": {},
   "outputs": [
    {
     "name": "stdout",
     "output_type": "stream",
     "text": [
      "Enter word :rainn\n",
      "did u get rain instead?\n"
     ]
    }
   ],
   "source": [
    "import json\n",
    "data= json.load(open(\"data.json\"))\n",
    "def translate(w):\n",
    "    w=w.lower()\n",
    "    if w in data :\n",
    "      return data[w]\n",
    "    elif len(get_close_matches(w,data.keys()))>0:    #now suggested word will appear \n",
    "      return \"did u get %s instead?\"%get_close_matches(w,data.keys())[0]\n",
    "    else:\n",
    "      return \"word doesnot exist\"\n",
    "word= input(\"Enter word :\")\n",
    "print(translate(word))"
   ]
  },
  {
   "cell_type": "code",
   "execution_count": 38,
   "id": "12019153",
   "metadata": {},
   "outputs": [
    {
     "name": "stdout",
     "output_type": "stream",
     "text": [
      "Enter word :rainn\n",
      "did u mean rain instead? Enter Y if yes or N if no::N\n",
      "The word doesnot exist. PLease double check it.\n"
     ]
    }
   ],
   "source": [
    "import json\n",
    "data= json.load(open(\"data.json\"))\n",
    "def translate(w):\n",
    "    w=w.lower()\n",
    "    if w in data :\n",
    "      return data[w]\n",
    "    elif len(get_close_matches(w,data.keys()))>0: #now suggested word will appear \n",
    "        yn=input(\"did u mean %s instead? Enter Y if yes or N if no::\"\n",
    "               %get_close_matches(w,data.keys())[0])\n",
    "        if yn==\"Y\":\n",
    "            return data[get_close_matches(w,data.keys())[0]]\n",
    "        if yn==\"N\": \n",
    "            return \"The word doesnot exist. PLease double check it.\"\n",
    "        else:\n",
    "            return \"We didnot understand your entry \"\n",
    "    else:\n",
    "            return \"Word doesn't exist\"\n",
    "word= input(\"Enter word :\")\n",
    "print(translate(word))"
   ]
  },
  {
   "cell_type": "code",
   "execution_count": null,
   "id": "4afa910b",
   "metadata": {},
   "outputs": [],
   "source": []
  }
 ],
 "metadata": {
  "kernelspec": {
   "display_name": "Python 3 (ipykernel)",
   "language": "python",
   "name": "python3"
  },
  "language_info": {
   "codemirror_mode": {
    "name": "ipython",
    "version": 3
   },
   "file_extension": ".py",
   "mimetype": "text/x-python",
   "name": "python",
   "nbconvert_exporter": "python",
   "pygments_lexer": "ipython3",
   "version": "3.9.12"
  }
 },
 "nbformat": 4,
 "nbformat_minor": 5
}
